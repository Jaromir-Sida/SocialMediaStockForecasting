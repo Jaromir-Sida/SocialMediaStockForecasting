{
 "cells": [
  {
   "cell_type": "code",
   "execution_count": 5,
   "metadata": {},
   "outputs": [],
   "source": [
    "# Tokenization\n",
    "from nltk.tokenize import sent_tokenize, word_tokenize, TweetTokenizer\n",
    "from nltk.tokenize.casual import TweetTokenizer as CasualTweetTokenizer\n",
    "from nltk.corpus import stopwords\n",
    "from nltk.probability import FreqDist\n",
    "from nltk.stem import WordNetLemmatizer\n",
    "from functools import reduce\n",
    "from collections import Counter\n",
    "# general \n",
    "import pandas as pd\n",
    "import json\n",
    "import re\n",
    "import matplotlib.pyplot as plt\n",
    "import numpy as np"
   ]
  },
  {
   "cell_type": "code",
   "execution_count": 30,
   "metadata": {},
   "outputs": [],
   "source": [
    "pd.set_option('display.max_colwidth',None)"
   ]
  },
  {
   "cell_type": "code",
   "execution_count": 2,
   "metadata": {},
   "outputs": [],
   "source": [
    "with open(r'c:\\Users\\jaromir\\OneDrive\\UoM\\100_Disertation\\02_SrcData\\02_StockTwits\\stocktwits1.json') as f:\n",
    "  stocktwits = json.load(f)"
   ]
  },
  {
   "cell_type": "code",
   "execution_count": 3,
   "metadata": {},
   "outputs": [],
   "source": [
    "def process_twits(json_file):\n",
    "    df = pd.DataFrame(columns=['ticker','text','sentiment'])\n",
    "    text = []\n",
    "    sentiment = []\n",
    "    tickers = []\n",
    "    \n",
    "    for ticker in stocktwits.keys():\n",
    "        for idx in range(len(stocktwits[ticker])-1):\n",
    "            text.append(stocktwits[ticker][idx]['body'])\n",
    "            sentiment.append(stocktwits[ticker][idx]['entities']['sentiment'])\n",
    "            tickers.append(ticker)\n",
    "            \n",
    "    df['ticker'] = tickers\n",
    "    df['text'] = text\n",
    "    df['sentiment'] = sentiment\n",
    "    \n",
    "    return df"
   ]
  },
  {
   "cell_type": "code",
   "execution_count": 9,
   "metadata": {},
   "outputs": [
    {
     "data": {
      "text/html": [
       "<div>\n",
       "<style scoped>\n",
       "    .dataframe tbody tr th:only-of-type {\n",
       "        vertical-align: middle;\n",
       "    }\n",
       "\n",
       "    .dataframe tbody tr th {\n",
       "        vertical-align: top;\n",
       "    }\n",
       "\n",
       "    .dataframe thead th {\n",
       "        text-align: right;\n",
       "    }\n",
       "</style>\n",
       "<table border=\"1\" class=\"dataframe\">\n",
       "  <thead>\n",
       "    <tr style=\"text-align: right;\">\n",
       "      <th></th>\n",
       "      <th>ticker</th>\n",
       "      <th>text</th>\n",
       "      <th>sentiment</th>\n",
       "    </tr>\n",
       "  </thead>\n",
       "  <tbody>\n",
       "    <tr>\n",
       "      <th>0</th>\n",
       "      <td>AAPL</td>\n",
       "      <td>$AAPL Possible H&amp;amp;S setting up on the 6mo.</td>\n",
       "      <td>{'basic': 'Bearish'}</td>\n",
       "    </tr>\n",
       "    <tr>\n",
       "      <th>1</th>\n",
       "      <td>AAPL</td>\n",
       "      <td>$ADMP I am wondering why I could not hold to $T or $AAPL for a year and have all stupidty to keep adding more sh*t of ADMP for more than a year</td>\n",
       "      <td>None</td>\n",
       "    </tr>\n",
       "    <tr>\n",
       "      <th>2</th>\n",
       "      <td>AAPL</td>\n",
       "      <td>$SPOT $AAPL $SPY Spotify Near Term PT $235</td>\n",
       "      <td>{'basic': 'Bearish'}</td>\n",
       "    </tr>\n",
       "    <tr>\n",
       "      <th>3</th>\n",
       "      <td>AAPL</td>\n",
       "      <td>$WKHS before I forget here’s the address and info if anyone wants to report to sec also $AMZN $AAPL $GOOGL</td>\n",
       "      <td>{'basic': 'Bearish'}</td>\n",
       "    </tr>\n",
       "    <tr>\n",
       "      <th>4</th>\n",
       "      <td>AAPL</td>\n",
       "      <td>A simple way for newbie traders to manage risk better:\\n\\nSet a max dollar amount you are willing to lose on every trade\\n\\nIf you have 10 shares of $AAPL at 363\\n\\nand the max you want to lose is $100\\n\\nif it drops to 353 you get out \\n\\nno questions\\nno emotion\\n\\nthen on the the next</td>\n",
       "      <td>None</td>\n",
       "    </tr>\n",
       "    <tr>\n",
       "      <th>...</th>\n",
       "      <td>...</td>\n",
       "      <td>...</td>\n",
       "      <td>...</td>\n",
       "    </tr>\n",
       "    <tr>\n",
       "      <th>1155</th>\n",
       "      <td>YHOO</td>\n",
       "      <td>$YHOO Why doesn’t Yahoo adjust for splits on their stock charts any more?</td>\n",
       "      <td>None</td>\n",
       "    </tr>\n",
       "    <tr>\n",
       "      <th>1156</th>\n",
       "      <td>YHOO</td>\n",
       "      <td>$YHOO Anyone know why this isn’t on webull?</td>\n",
       "      <td>None</td>\n",
       "    </tr>\n",
       "    <tr>\n",
       "      <th>1157</th>\n",
       "      <td>YHOO</td>\n",
       "      <td>$AAPL $YHOO $AMZN $BUD \\n💥CVSI💥 top performing cannabis stock today. Look at the 180 day chart. Looks to me volume is building up. 🥦CVSI🥦 Cannabis stocks will pump pre-election</td>\n",
       "      <td>None</td>\n",
       "    </tr>\n",
       "    <tr>\n",
       "      <th>1158</th>\n",
       "      <td>YHOO</td>\n",
       "      <td>$INO I don’t see much of a ceiling on the leading Covid-19 vaccine developers ($INO, $MRNA) until a vaccine is developed.  There is one first prize - everyone doesn’t get a trophy...  In the meantime valuation gets thrown out the window.  As a very early $AMZN and $YHOO investor this seems no different.  GL.</td>\n",
       "      <td>{'basic': 'Bullish'}</td>\n",
       "    </tr>\n",
       "    <tr>\n",
       "      <th>1159</th>\n",
       "      <td>YHOO</td>\n",
       "      <td>$IBIO Rebounds are a sweet play people especially when it&amp;#39;s a bull call anyway $GOOG $YHOO $YELP search no further</td>\n",
       "      <td>{'basic': 'Bullish'}</td>\n",
       "    </tr>\n",
       "  </tbody>\n",
       "</table>\n",
       "<p>1160 rows × 3 columns</p>\n",
       "</div>"
      ],
      "text/plain": [
       "     ticker  \\\n",
       "0      AAPL   \n",
       "1      AAPL   \n",
       "2      AAPL   \n",
       "3      AAPL   \n",
       "4      AAPL   \n",
       "...     ...   \n",
       "1155   YHOO   \n",
       "1156   YHOO   \n",
       "1157   YHOO   \n",
       "1158   YHOO   \n",
       "1159   YHOO   \n",
       "\n",
       "                                                                                                                                                                                                                                                                                                                       text  \\\n",
       "0                                                                                                                                                                                                                                                                             $AAPL Possible H&amp;S setting up on the 6mo.   \n",
       "1                                                                                                                                                                           $ADMP I am wondering why I could not hold to $T or $AAPL for a year and have all stupidty to keep adding more sh*t of ADMP for more than a year   \n",
       "2                                                                                                                                                                                                                                                                                $SPOT $AAPL $SPY Spotify Near Term PT $235   \n",
       "3                                                                                                                                                                                                                $WKHS before I forget here’s the address and info if anyone wants to report to sec also $AMZN $AAPL $GOOGL   \n",
       "4                          A simple way for newbie traders to manage risk better:\\n\\nSet a max dollar amount you are willing to lose on every trade\\n\\nIf you have 10 shares of $AAPL at 363\\n\\nand the max you want to lose is $100\\n\\nif it drops to 353 you get out \\n\\nno questions\\nno emotion\\n\\nthen on the the next   \n",
       "...                                                                                                                                                                                                                                                                                                                     ...   \n",
       "1155                                                                                                                                                                                                                                              $YHOO Why doesn’t Yahoo adjust for splits on their stock charts any more?   \n",
       "1156                                                                                                                                                                                                                                                                            $YHOO Anyone know why this isn’t on webull?   \n",
       "1157                                                                                                                                       $AAPL $YHOO $AMZN $BUD \\n💥CVSI💥 top performing cannabis stock today. Look at the 180 day chart. Looks to me volume is building up. 🥦CVSI🥦 Cannabis stocks will pump pre-election   \n",
       "1158  $INO I don’t see much of a ceiling on the leading Covid-19 vaccine developers ($INO, $MRNA) until a vaccine is developed.  There is one first prize - everyone doesn’t get a trophy...  In the meantime valuation gets thrown out the window.  As a very early $AMZN and $YHOO investor this seems no different.  GL.   \n",
       "1159                                                                                                                                                                                                 $IBIO Rebounds are a sweet play people especially when it&#39;s a bull call anyway $GOOG $YHOO $YELP search no further   \n",
       "\n",
       "                 sentiment  \n",
       "0     {'basic': 'Bearish'}  \n",
       "1                     None  \n",
       "2     {'basic': 'Bearish'}  \n",
       "3     {'basic': 'Bearish'}  \n",
       "4                     None  \n",
       "...                    ...  \n",
       "1155                  None  \n",
       "1156                  None  \n",
       "1157                  None  \n",
       "1158  {'basic': 'Bullish'}  \n",
       "1159  {'basic': 'Bullish'}  \n",
       "\n",
       "[1160 rows x 3 columns]"
      ]
     },
     "execution_count": 9,
     "metadata": {},
     "output_type": "execute_result"
    }
   ],
   "source": [
    "dfs = process_twits(stocktwits)\n",
    "dfs"
   ]
  },
  {
   "cell_type": "markdown",
   "metadata": {},
   "source": [
    "### Filter unwanted words/strings"
   ]
  },
  {
   "cell_type": "code",
   "execution_count": 32,
   "metadata": {},
   "outputs": [],
   "source": [
    "# remove urls\n",
    "url_filter = re.compile(r\"www.[\\w\\d]+.\\w+|http://\\S+|https://\\S+\")\n",
    "\n",
    "# remove hashtags\n",
    "hashtag_filter = re.compile(r\"#\\w+\")\n",
    "\n",
    "# remove mentions\n",
    "mentions_filter = re.compile(r\"@\\w+\")\n",
    "\n",
    "# remove special characters\n",
    "schar_filter = re.compile(r\"[+?!,;.(){}-]\")\n",
    "\n",
    "# remove new-lines\n",
    "nline_filter = re.compile(r\"\\n\")"
   ]
  },
  {
   "cell_type": "code",
   "execution_count": 25,
   "metadata": {},
   "outputs": [],
   "source": [
    "def filter_results(document, filter_condition):\n",
    "    \"\"\"replace given regEx string with a space\"\"\"\n",
    "    document = re.sub(filter_condition, \"\", document)\n",
    "    return document"
   ]
  },
  {
   "cell_type": "code",
   "execution_count": 27,
   "metadata": {},
   "outputs": [],
   "source": [
    "def filter_documents(df, filters):\n",
    "    df.loc[:,'filtered_text'] = df.loc[:,'text']\n",
    "    for char_filter in filters:       \n",
    "        df.loc[:,'filtered_text'] = df.loc[:,'filtered_text'].apply(filter_results, args=[char_filter])\n",
    "    return df"
   ]
  },
  {
   "cell_type": "code",
   "execution_count": 33,
   "metadata": {},
   "outputs": [],
   "source": [
    "filters = [url_filter, hashtag_filter, mentions_filter, schar_filter, nline_filter]"
   ]
  },
  {
   "cell_type": "code",
   "execution_count": 34,
   "metadata": {},
   "outputs": [],
   "source": [
    "dfs = filter_documents(dfs, filters)"
   ]
  },
  {
   "cell_type": "code",
   "execution_count": 35,
   "metadata": {},
   "outputs": [
    {
     "data": {
      "text/html": [
       "<div>\n",
       "<style scoped>\n",
       "    .dataframe tbody tr th:only-of-type {\n",
       "        vertical-align: middle;\n",
       "    }\n",
       "\n",
       "    .dataframe tbody tr th {\n",
       "        vertical-align: top;\n",
       "    }\n",
       "\n",
       "    .dataframe thead th {\n",
       "        text-align: right;\n",
       "    }\n",
       "</style>\n",
       "<table border=\"1\" class=\"dataframe\">\n",
       "  <thead>\n",
       "    <tr style=\"text-align: right;\">\n",
       "      <th></th>\n",
       "      <th>text</th>\n",
       "      <th>filtered_text</th>\n",
       "    </tr>\n",
       "  </thead>\n",
       "  <tbody>\n",
       "    <tr>\n",
       "      <th>0</th>\n",
       "      <td>$AAPL Possible H&amp;amp;S setting up on the 6mo.</td>\n",
       "      <td>$AAPL Possible H&amp;ampS setting up on the 6mo</td>\n",
       "    </tr>\n",
       "    <tr>\n",
       "      <th>1</th>\n",
       "      <td>$ADMP I am wondering why I could not hold to $T or $AAPL for a year and have all stupidty to keep adding more sh*t of ADMP for more than a year</td>\n",
       "      <td>$ADMP I am wondering why I could not hold to $T or $AAPL for a year and have all stupidty to keep adding more sh*t of ADMP for more than a year</td>\n",
       "    </tr>\n",
       "    <tr>\n",
       "      <th>2</th>\n",
       "      <td>$SPOT $AAPL $SPY Spotify Near Term PT $235</td>\n",
       "      <td>$SPOT $AAPL $SPY Spotify Near Term PT $235</td>\n",
       "    </tr>\n",
       "    <tr>\n",
       "      <th>3</th>\n",
       "      <td>$WKHS before I forget here’s the address and info if anyone wants to report to sec also $AMZN $AAPL $GOOGL</td>\n",
       "      <td>$WKHS before I forget here’s the address and info if anyone wants to report to sec also $AMZN $AAPL $GOOGL</td>\n",
       "    </tr>\n",
       "    <tr>\n",
       "      <th>4</th>\n",
       "      <td>A simple way for newbie traders to manage risk better:\\n\\nSet a max dollar amount you are willing to lose on every trade\\n\\nIf you have 10 shares of $AAPL at 363\\n\\nand the max you want to lose is $100\\n\\nif it drops to 353 you get out \\n\\nno questions\\nno emotion\\n\\nthen on the the next</td>\n",
       "      <td>A simple way for newbie traders to manage risk better:Set a max dollar amount you are willing to lose on every tradeIf you have 10 shares of $AAPL at 363and the max you want to lose is $100if it drops to 353 you get out no questionsno emotionthen on the the next</td>\n",
       "    </tr>\n",
       "    <tr>\n",
       "      <th>...</th>\n",
       "      <td>...</td>\n",
       "      <td>...</td>\n",
       "    </tr>\n",
       "    <tr>\n",
       "      <th>1155</th>\n",
       "      <td>$YHOO Why doesn’t Yahoo adjust for splits on their stock charts any more?</td>\n",
       "      <td>$YHOO Why doesn’t Yahoo adjust for splits on their stock charts any more</td>\n",
       "    </tr>\n",
       "    <tr>\n",
       "      <th>1156</th>\n",
       "      <td>$YHOO Anyone know why this isn’t on webull?</td>\n",
       "      <td>$YHOO Anyone know why this isn’t on webull</td>\n",
       "    </tr>\n",
       "    <tr>\n",
       "      <th>1157</th>\n",
       "      <td>$AAPL $YHOO $AMZN $BUD \\n💥CVSI💥 top performing cannabis stock today. Look at the 180 day chart. Looks to me volume is building up. 🥦CVSI🥦 Cannabis stocks will pump pre-election</td>\n",
       "      <td>$AAPL $YHOO $AMZN $BUD 💥CVSI💥 top performing cannabis stock today Look at the 180 day chart Looks to me volume is building up 🥦CVSI🥦 Cannabis stocks will pump preelection</td>\n",
       "    </tr>\n",
       "    <tr>\n",
       "      <th>1158</th>\n",
       "      <td>$INO I don’t see much of a ceiling on the leading Covid-19 vaccine developers ($INO, $MRNA) until a vaccine is developed.  There is one first prize - everyone doesn’t get a trophy...  In the meantime valuation gets thrown out the window.  As a very early $AMZN and $YHOO investor this seems no different.  GL.</td>\n",
       "      <td>$INO I don’t see much of a ceiling on the leading Covid19 vaccine developers $INO $MRNA until a vaccine is developed  There is one first prize  everyone doesn’t get a trophy  In the meantime valuation gets thrown out the window  As a very early $AMZN and $YHOO investor this seems no different  GL</td>\n",
       "    </tr>\n",
       "    <tr>\n",
       "      <th>1159</th>\n",
       "      <td>$IBIO Rebounds are a sweet play people especially when it&amp;#39;s a bull call anyway $GOOG $YHOO $YELP search no further</td>\n",
       "      <td>$IBIO Rebounds are a sweet play people especially when it&amp;s a bull call anyway $GOOG $YHOO $YELP search no further</td>\n",
       "    </tr>\n",
       "  </tbody>\n",
       "</table>\n",
       "<p>1160 rows × 2 columns</p>\n",
       "</div>"
      ],
      "text/plain": [
       "                                                                                                                                                                                                                                                                                                                       text  \\\n",
       "0                                                                                                                                                                                                                                                                             $AAPL Possible H&amp;S setting up on the 6mo.   \n",
       "1                                                                                                                                                                           $ADMP I am wondering why I could not hold to $T or $AAPL for a year and have all stupidty to keep adding more sh*t of ADMP for more than a year   \n",
       "2                                                                                                                                                                                                                                                                                $SPOT $AAPL $SPY Spotify Near Term PT $235   \n",
       "3                                                                                                                                                                                                                $WKHS before I forget here’s the address and info if anyone wants to report to sec also $AMZN $AAPL $GOOGL   \n",
       "4                          A simple way for newbie traders to manage risk better:\\n\\nSet a max dollar amount you are willing to lose on every trade\\n\\nIf you have 10 shares of $AAPL at 363\\n\\nand the max you want to lose is $100\\n\\nif it drops to 353 you get out \\n\\nno questions\\nno emotion\\n\\nthen on the the next   \n",
       "...                                                                                                                                                                                                                                                                                                                     ...   \n",
       "1155                                                                                                                                                                                                                                              $YHOO Why doesn’t Yahoo adjust for splits on their stock charts any more?   \n",
       "1156                                                                                                                                                                                                                                                                            $YHOO Anyone know why this isn’t on webull?   \n",
       "1157                                                                                                                                       $AAPL $YHOO $AMZN $BUD \\n💥CVSI💥 top performing cannabis stock today. Look at the 180 day chart. Looks to me volume is building up. 🥦CVSI🥦 Cannabis stocks will pump pre-election   \n",
       "1158  $INO I don’t see much of a ceiling on the leading Covid-19 vaccine developers ($INO, $MRNA) until a vaccine is developed.  There is one first prize - everyone doesn’t get a trophy...  In the meantime valuation gets thrown out the window.  As a very early $AMZN and $YHOO investor this seems no different.  GL.   \n",
       "1159                                                                                                                                                                                                 $IBIO Rebounds are a sweet play people especially when it&#39;s a bull call anyway $GOOG $YHOO $YELP search no further   \n",
       "\n",
       "                                                                                                                                                                                                                                                                                                  filtered_text  \n",
       "0                                                                                                                                                                                                                                                                   $AAPL Possible H&ampS setting up on the 6mo  \n",
       "1                                                                                                                                                               $ADMP I am wondering why I could not hold to $T or $AAPL for a year and have all stupidty to keep adding more sh*t of ADMP for more than a year  \n",
       "2                                                                                                                                                                                                                                                                    $SPOT $AAPL $SPY Spotify Near Term PT $235  \n",
       "3                                                                                                                                                                                                    $WKHS before I forget here’s the address and info if anyone wants to report to sec also $AMZN $AAPL $GOOGL  \n",
       "4                                        A simple way for newbie traders to manage risk better:Set a max dollar amount you are willing to lose on every tradeIf you have 10 shares of $AAPL at 363and the max you want to lose is $100if it drops to 353 you get out no questionsno emotionthen on the the next  \n",
       "...                                                                                                                                                                                                                                                                                                         ...  \n",
       "1155                                                                                                                                                                                                                                   $YHOO Why doesn’t Yahoo adjust for splits on their stock charts any more  \n",
       "1156                                                                                                                                                                                                                                                                 $YHOO Anyone know why this isn’t on webull  \n",
       "1157                                                                                                                                 $AAPL $YHOO $AMZN $BUD 💥CVSI💥 top performing cannabis stock today Look at the 180 day chart Looks to me volume is building up 🥦CVSI🥦 Cannabis stocks will pump preelection  \n",
       "1158  $INO I don’t see much of a ceiling on the leading Covid19 vaccine developers $INO $MRNA until a vaccine is developed  There is one first prize  everyone doesn’t get a trophy  In the meantime valuation gets thrown out the window  As a very early $AMZN and $YHOO investor this seems no different  GL  \n",
       "1159                                                                                                                                                                                         $IBIO Rebounds are a sweet play people especially when it&s a bull call anyway $GOOG $YHOO $YELP search no further  \n",
       "\n",
       "[1160 rows x 2 columns]"
      ]
     },
     "execution_count": 35,
     "metadata": {},
     "output_type": "execute_result"
    }
   ],
   "source": [
    "dfs[['text','filtered_text']]"
   ]
  },
  {
   "cell_type": "code",
   "execution_count": 36,
   "metadata": {},
   "outputs": [],
   "source": [
    "# Word Tokenization\n",
    "dfs.loc[:,'Word_Token'] = dfs.filtered_text.apply(lambda x: TweetTokenizer().tokenize(x))"
   ]
  },
  {
   "cell_type": "code",
   "execution_count": 37,
   "metadata": {},
   "outputs": [],
   "source": [
    "# Turn everything lower case\n",
    "def lower_list(list_of_word):\n",
    "    \"\"\" turn all strings into lower case\"\"\"\n",
    "    low_list = [word.lower() for word in list_of_word]\n",
    "    return low_list"
   ]
  },
  {
   "cell_type": "code",
   "execution_count": 38,
   "metadata": {},
   "outputs": [],
   "source": [
    "dfs.loc[:,'Word_Token'] = dfs.loc[:,'Word_Token'].apply(lower_list)"
   ]
  },
  {
   "cell_type": "code",
   "execution_count": 39,
   "metadata": {},
   "outputs": [],
   "source": [
    "# Get rid of stop words\n",
    "def remove_stopwords(list_of_word):\n",
    "    \"\"\" removes stopwords \"\"\"\n",
    "    no_stopwords = [t for t in list_of_word if t not in stopwords.words('english')]\n",
    "    return no_stopwords"
   ]
  },
  {
   "cell_type": "code",
   "execution_count": 40,
   "metadata": {},
   "outputs": [],
   "source": [
    "dfs.loc[:,'Word_Token_NS'] = dfs.loc[:,'Word_Token'].apply(remove_stopwords)"
   ]
  },
  {
   "cell_type": "code",
   "execution_count": 42,
   "metadata": {},
   "outputs": [
    {
     "data": {
      "text/html": [
       "<div>\n",
       "<style scoped>\n",
       "    .dataframe tbody tr th:only-of-type {\n",
       "        vertical-align: middle;\n",
       "    }\n",
       "\n",
       "    .dataframe tbody tr th {\n",
       "        vertical-align: top;\n",
       "    }\n",
       "\n",
       "    .dataframe thead th {\n",
       "        text-align: right;\n",
       "    }\n",
       "</style>\n",
       "<table border=\"1\" class=\"dataframe\">\n",
       "  <thead>\n",
       "    <tr style=\"text-align: right;\">\n",
       "      <th></th>\n",
       "      <th>text</th>\n",
       "      <th>Word_Token_NS</th>\n",
       "    </tr>\n",
       "  </thead>\n",
       "  <tbody>\n",
       "    <tr>\n",
       "      <th>0</th>\n",
       "      <td>$AAPL Possible H&amp;amp;S setting up on the 6mo.</td>\n",
       "      <td>[$, aapl, possible, h, &amp;, amps, setting, 6mo]</td>\n",
       "    </tr>\n",
       "    <tr>\n",
       "      <th>1</th>\n",
       "      <td>$ADMP I am wondering why I could not hold to $T or $AAPL for a year and have all stupidty to keep adding more sh*t of ADMP for more than a year</td>\n",
       "      <td>[$, admp, wondering, could, hold, $, $, aapl, year, stupidty, keep, adding, sh, *, admp, year]</td>\n",
       "    </tr>\n",
       "    <tr>\n",
       "      <th>2</th>\n",
       "      <td>$SPOT $AAPL $SPY Spotify Near Term PT $235</td>\n",
       "      <td>[$, spot, $, aapl, $, spy, spotify, near, term, pt, $, 235]</td>\n",
       "    </tr>\n",
       "    <tr>\n",
       "      <th>3</th>\n",
       "      <td>$WKHS before I forget here’s the address and info if anyone wants to report to sec also $AMZN $AAPL $GOOGL</td>\n",
       "      <td>[$, wkhs, forget, ’, address, info, anyone, wants, report, sec, also, $, amzn, $, aapl, $, googl]</td>\n",
       "    </tr>\n",
       "    <tr>\n",
       "      <th>4</th>\n",
       "      <td>A simple way for newbie traders to manage risk better:\\n\\nSet a max dollar amount you are willing to lose on every trade\\n\\nIf you have 10 shares of $AAPL at 363\\n\\nand the max you want to lose is $100\\n\\nif it drops to 353 you get out \\n\\nno questions\\nno emotion\\n\\nthen on the the next</td>\n",
       "      <td>[simple, way, newbie, traders, manage, risk, better, :, set, max, dollar, amount, willing, lose, every, tradeif, 10, shares, $, aapl, 363and, max, want, lose, $, 100if, drops, 353, get, questionsno, emotionthen, next]</td>\n",
       "    </tr>\n",
       "    <tr>\n",
       "      <th>...</th>\n",
       "      <td>...</td>\n",
       "      <td>...</td>\n",
       "    </tr>\n",
       "    <tr>\n",
       "      <th>1155</th>\n",
       "      <td>$YHOO Why doesn’t Yahoo adjust for splits on their stock charts any more?</td>\n",
       "      <td>[$, yhoo, ’, yahoo, adjust, splits, stock, charts]</td>\n",
       "    </tr>\n",
       "    <tr>\n",
       "      <th>1156</th>\n",
       "      <td>$YHOO Anyone know why this isn’t on webull?</td>\n",
       "      <td>[$, yhoo, anyone, know, ’, webull]</td>\n",
       "    </tr>\n",
       "    <tr>\n",
       "      <th>1157</th>\n",
       "      <td>$AAPL $YHOO $AMZN $BUD \\n💥CVSI💥 top performing cannabis stock today. Look at the 180 day chart. Looks to me volume is building up. 🥦CVSI🥦 Cannabis stocks will pump pre-election</td>\n",
       "      <td>[$, aapl, $, yhoo, $, amzn, $, bud, 💥, cvsi, 💥, top, performing, cannabis, stock, today, look, 180, day, chart, looks, volume, building, 🥦, cvsi, 🥦, cannabis, stocks, pump, preelection]</td>\n",
       "    </tr>\n",
       "    <tr>\n",
       "      <th>1158</th>\n",
       "      <td>$INO I don’t see much of a ceiling on the leading Covid-19 vaccine developers ($INO, $MRNA) until a vaccine is developed.  There is one first prize - everyone doesn’t get a trophy...  In the meantime valuation gets thrown out the window.  As a very early $AMZN and $YHOO investor this seems no different.  GL.</td>\n",
       "      <td>[$, ino, ’, see, much, ceiling, leading, covid, 19, vaccine, developers, $, ino, $, mrna, vaccine, developed, one, first, prize, everyone, ’, get, trophy, meantime, valuation, gets, thrown, window, early, $, amzn, $, yhoo, investor, seems, different, gl]</td>\n",
       "    </tr>\n",
       "    <tr>\n",
       "      <th>1159</th>\n",
       "      <td>$IBIO Rebounds are a sweet play people especially when it&amp;#39;s a bull call anyway $GOOG $YHOO $YELP search no further</td>\n",
       "      <td>[$, ibio, rebounds, sweet, play, people, especially, &amp;, bull, call, anyway, $, goog, $, yhoo, $, yelp, search]</td>\n",
       "    </tr>\n",
       "  </tbody>\n",
       "</table>\n",
       "<p>1160 rows × 2 columns</p>\n",
       "</div>"
      ],
      "text/plain": [
       "                                                                                                                                                                                                                                                                                                                       text  \\\n",
       "0                                                                                                                                                                                                                                                                             $AAPL Possible H&amp;S setting up on the 6mo.   \n",
       "1                                                                                                                                                                           $ADMP I am wondering why I could not hold to $T or $AAPL for a year and have all stupidty to keep adding more sh*t of ADMP for more than a year   \n",
       "2                                                                                                                                                                                                                                                                                $SPOT $AAPL $SPY Spotify Near Term PT $235   \n",
       "3                                                                                                                                                                                                                $WKHS before I forget here’s the address and info if anyone wants to report to sec also $AMZN $AAPL $GOOGL   \n",
       "4                          A simple way for newbie traders to manage risk better:\\n\\nSet a max dollar amount you are willing to lose on every trade\\n\\nIf you have 10 shares of $AAPL at 363\\n\\nand the max you want to lose is $100\\n\\nif it drops to 353 you get out \\n\\nno questions\\nno emotion\\n\\nthen on the the next   \n",
       "...                                                                                                                                                                                                                                                                                                                     ...   \n",
       "1155                                                                                                                                                                                                                                              $YHOO Why doesn’t Yahoo adjust for splits on their stock charts any more?   \n",
       "1156                                                                                                                                                                                                                                                                            $YHOO Anyone know why this isn’t on webull?   \n",
       "1157                                                                                                                                       $AAPL $YHOO $AMZN $BUD \\n💥CVSI💥 top performing cannabis stock today. Look at the 180 day chart. Looks to me volume is building up. 🥦CVSI🥦 Cannabis stocks will pump pre-election   \n",
       "1158  $INO I don’t see much of a ceiling on the leading Covid-19 vaccine developers ($INO, $MRNA) until a vaccine is developed.  There is one first prize - everyone doesn’t get a trophy...  In the meantime valuation gets thrown out the window.  As a very early $AMZN and $YHOO investor this seems no different.  GL.   \n",
       "1159                                                                                                                                                                                                 $IBIO Rebounds are a sweet play people especially when it&#39;s a bull call anyway $GOOG $YHOO $YELP search no further   \n",
       "\n",
       "                                                                                                                                                                                                                                                       Word_Token_NS  \n",
       "0                                                                                                                                                                                                                      [$, aapl, possible, h, &, amps, setting, 6mo]  \n",
       "1                                                                                                                                                                     [$, admp, wondering, could, hold, $, $, aapl, year, stupidty, keep, adding, sh, *, admp, year]  \n",
       "2                                                                                                                                                                                                        [$, spot, $, aapl, $, spy, spotify, near, term, pt, $, 235]  \n",
       "3                                                                                                                                                                  [$, wkhs, forget, ’, address, info, anyone, wants, report, sec, also, $, amzn, $, aapl, $, googl]  \n",
       "4                                          [simple, way, newbie, traders, manage, risk, better, :, set, max, dollar, amount, willing, lose, every, tradeif, 10, shares, $, aapl, 363and, max, want, lose, $, 100if, drops, 353, get, questionsno, emotionthen, next]  \n",
       "...                                                                                                                                                                                                                                                              ...  \n",
       "1155                                                                                                                                                                                                              [$, yhoo, ’, yahoo, adjust, splits, stock, charts]  \n",
       "1156                                                                                                                                                                                                                              [$, yhoo, anyone, know, ’, webull]  \n",
       "1157                                                                       [$, aapl, $, yhoo, $, amzn, $, bud, 💥, cvsi, 💥, top, performing, cannabis, stock, today, look, 180, day, chart, looks, volume, building, 🥦, cvsi, 🥦, cannabis, stocks, pump, preelection]  \n",
       "1158  [$, ino, ’, see, much, ceiling, leading, covid, 19, vaccine, developers, $, ino, $, mrna, vaccine, developed, one, first, prize, everyone, ’, get, trophy, meantime, valuation, gets, thrown, window, early, $, amzn, $, yhoo, investor, seems, different, gl]  \n",
       "1159                                                                                                                                                  [$, ibio, rebounds, sweet, play, people, especially, &, bull, call, anyway, $, goog, $, yhoo, $, yelp, search]  \n",
       "\n",
       "[1160 rows x 2 columns]"
      ]
     },
     "execution_count": 42,
     "metadata": {},
     "output_type": "execute_result"
    }
   ],
   "source": [
    "dfs[['text','Word_Token_NS']]"
   ]
  },
  {
   "cell_type": "code",
   "execution_count": 43,
   "metadata": {},
   "outputs": [],
   "source": [
    "# Lemmatize all tokens into a new list: lemmatized\n",
    "wordnet_lemmatizer = WordNetLemmatizer()\n",
    "def lemmatize_words(list_of_words):\n",
    "    lemmatized = [wordnet_lemmatizer.lemmatize(t) for t in list_of_words]\n",
    "    return lemmatized"
   ]
  },
  {
   "cell_type": "code",
   "execution_count": 44,
   "metadata": {},
   "outputs": [
    {
     "data": {
      "text/html": [
       "<div>\n",
       "<style scoped>\n",
       "    .dataframe tbody tr th:only-of-type {\n",
       "        vertical-align: middle;\n",
       "    }\n",
       "\n",
       "    .dataframe tbody tr th {\n",
       "        vertical-align: top;\n",
       "    }\n",
       "\n",
       "    .dataframe thead th {\n",
       "        text-align: right;\n",
       "    }\n",
       "</style>\n",
       "<table border=\"1\" class=\"dataframe\">\n",
       "  <thead>\n",
       "    <tr style=\"text-align: right;\">\n",
       "      <th></th>\n",
       "      <th>text</th>\n",
       "      <th>Word_Token_NS_L</th>\n",
       "    </tr>\n",
       "  </thead>\n",
       "  <tbody>\n",
       "    <tr>\n",
       "      <th>0</th>\n",
       "      <td>$AAPL Possible H&amp;amp;S setting up on the 6mo.</td>\n",
       "      <td>[$, aapl, possible, h, &amp;, amp, setting, 6mo]</td>\n",
       "    </tr>\n",
       "    <tr>\n",
       "      <th>1</th>\n",
       "      <td>$ADMP I am wondering why I could not hold to $T or $AAPL for a year and have all stupidty to keep adding more sh*t of ADMP for more than a year</td>\n",
       "      <td>[$, admp, wondering, could, hold, $, $, aapl, year, stupidty, keep, adding, sh, *, admp, year]</td>\n",
       "    </tr>\n",
       "    <tr>\n",
       "      <th>2</th>\n",
       "      <td>$SPOT $AAPL $SPY Spotify Near Term PT $235</td>\n",
       "      <td>[$, spot, $, aapl, $, spy, spotify, near, term, pt, $, 235]</td>\n",
       "    </tr>\n",
       "    <tr>\n",
       "      <th>3</th>\n",
       "      <td>$WKHS before I forget here’s the address and info if anyone wants to report to sec also $AMZN $AAPL $GOOGL</td>\n",
       "      <td>[$, wkhs, forget, ’, address, info, anyone, want, report, sec, also, $, amzn, $, aapl, $, googl]</td>\n",
       "    </tr>\n",
       "    <tr>\n",
       "      <th>4</th>\n",
       "      <td>A simple way for newbie traders to manage risk better:\\n\\nSet a max dollar amount you are willing to lose on every trade\\n\\nIf you have 10 shares of $AAPL at 363\\n\\nand the max you want to lose is $100\\n\\nif it drops to 353 you get out \\n\\nno questions\\nno emotion\\n\\nthen on the the next</td>\n",
       "      <td>[simple, way, newbie, trader, manage, risk, better, :, set, max, dollar, amount, willing, lose, every, tradeif, 10, share, $, aapl, 363and, max, want, lose, $, 100if, drop, 353, get, questionsno, emotionthen, next]</td>\n",
       "    </tr>\n",
       "    <tr>\n",
       "      <th>...</th>\n",
       "      <td>...</td>\n",
       "      <td>...</td>\n",
       "    </tr>\n",
       "    <tr>\n",
       "      <th>1155</th>\n",
       "      <td>$YHOO Why doesn’t Yahoo adjust for splits on their stock charts any more?</td>\n",
       "      <td>[$, yhoo, ’, yahoo, adjust, split, stock, chart]</td>\n",
       "    </tr>\n",
       "    <tr>\n",
       "      <th>1156</th>\n",
       "      <td>$YHOO Anyone know why this isn’t on webull?</td>\n",
       "      <td>[$, yhoo, anyone, know, ’, webull]</td>\n",
       "    </tr>\n",
       "    <tr>\n",
       "      <th>1157</th>\n",
       "      <td>$AAPL $YHOO $AMZN $BUD \\n💥CVSI💥 top performing cannabis stock today. Look at the 180 day chart. Looks to me volume is building up. 🥦CVSI🥦 Cannabis stocks will pump pre-election</td>\n",
       "      <td>[$, aapl, $, yhoo, $, amzn, $, bud, 💥, cvsi, 💥, top, performing, cannabis, stock, today, look, 180, day, chart, look, volume, building, 🥦, cvsi, 🥦, cannabis, stock, pump, preelection]</td>\n",
       "    </tr>\n",
       "    <tr>\n",
       "      <th>1158</th>\n",
       "      <td>$INO I don’t see much of a ceiling on the leading Covid-19 vaccine developers ($INO, $MRNA) until a vaccine is developed.  There is one first prize - everyone doesn’t get a trophy...  In the meantime valuation gets thrown out the window.  As a very early $AMZN and $YHOO investor this seems no different.  GL.</td>\n",
       "      <td>[$, ino, ’, see, much, ceiling, leading, covid, 19, vaccine, developer, $, ino, $, mrna, vaccine, developed, one, first, prize, everyone, ’, get, trophy, meantime, valuation, get, thrown, window, early, $, amzn, $, yhoo, investor, seems, different, gl]</td>\n",
       "    </tr>\n",
       "    <tr>\n",
       "      <th>1159</th>\n",
       "      <td>$IBIO Rebounds are a sweet play people especially when it&amp;#39;s a bull call anyway $GOOG $YHOO $YELP search no further</td>\n",
       "      <td>[$, ibio, rebound, sweet, play, people, especially, &amp;, bull, call, anyway, $, goog, $, yhoo, $, yelp, search]</td>\n",
       "    </tr>\n",
       "  </tbody>\n",
       "</table>\n",
       "<p>1160 rows × 2 columns</p>\n",
       "</div>"
      ],
      "text/plain": [
       "                                                                                                                                                                                                                                                                                                                       text  \\\n",
       "0                                                                                                                                                                                                                                                                             $AAPL Possible H&amp;S setting up on the 6mo.   \n",
       "1                                                                                                                                                                           $ADMP I am wondering why I could not hold to $T or $AAPL for a year and have all stupidty to keep adding more sh*t of ADMP for more than a year   \n",
       "2                                                                                                                                                                                                                                                                                $SPOT $AAPL $SPY Spotify Near Term PT $235   \n",
       "3                                                                                                                                                                                                                $WKHS before I forget here’s the address and info if anyone wants to report to sec also $AMZN $AAPL $GOOGL   \n",
       "4                          A simple way for newbie traders to manage risk better:\\n\\nSet a max dollar amount you are willing to lose on every trade\\n\\nIf you have 10 shares of $AAPL at 363\\n\\nand the max you want to lose is $100\\n\\nif it drops to 353 you get out \\n\\nno questions\\nno emotion\\n\\nthen on the the next   \n",
       "...                                                                                                                                                                                                                                                                                                                     ...   \n",
       "1155                                                                                                                                                                                                                                              $YHOO Why doesn’t Yahoo adjust for splits on their stock charts any more?   \n",
       "1156                                                                                                                                                                                                                                                                            $YHOO Anyone know why this isn’t on webull?   \n",
       "1157                                                                                                                                       $AAPL $YHOO $AMZN $BUD \\n💥CVSI💥 top performing cannabis stock today. Look at the 180 day chart. Looks to me volume is building up. 🥦CVSI🥦 Cannabis stocks will pump pre-election   \n",
       "1158  $INO I don’t see much of a ceiling on the leading Covid-19 vaccine developers ($INO, $MRNA) until a vaccine is developed.  There is one first prize - everyone doesn’t get a trophy...  In the meantime valuation gets thrown out the window.  As a very early $AMZN and $YHOO investor this seems no different.  GL.   \n",
       "1159                                                                                                                                                                                                 $IBIO Rebounds are a sweet play people especially when it&#39;s a bull call anyway $GOOG $YHOO $YELP search no further   \n",
       "\n",
       "                                                                                                                                                                                                                                                   Word_Token_NS_L  \n",
       "0                                                                                                                                                                                                                     [$, aapl, possible, h, &, amp, setting, 6mo]  \n",
       "1                                                                                                                                                                   [$, admp, wondering, could, hold, $, $, aapl, year, stupidty, keep, adding, sh, *, admp, year]  \n",
       "2                                                                                                                                                                                                      [$, spot, $, aapl, $, spy, spotify, near, term, pt, $, 235]  \n",
       "3                                                                                                                                                                 [$, wkhs, forget, ’, address, info, anyone, want, report, sec, also, $, amzn, $, aapl, $, googl]  \n",
       "4                                           [simple, way, newbie, trader, manage, risk, better, :, set, max, dollar, amount, willing, lose, every, tradeif, 10, share, $, aapl, 363and, max, want, lose, $, 100if, drop, 353, get, questionsno, emotionthen, next]  \n",
       "...                                                                                                                                                                                                                                                            ...  \n",
       "1155                                                                                                                                                                                                              [$, yhoo, ’, yahoo, adjust, split, stock, chart]  \n",
       "1156                                                                                                                                                                                                                            [$, yhoo, anyone, know, ’, webull]  \n",
       "1157                                                                       [$, aapl, $, yhoo, $, amzn, $, bud, 💥, cvsi, 💥, top, performing, cannabis, stock, today, look, 180, day, chart, look, volume, building, 🥦, cvsi, 🥦, cannabis, stock, pump, preelection]  \n",
       "1158  [$, ino, ’, see, much, ceiling, leading, covid, 19, vaccine, developer, $, ino, $, mrna, vaccine, developed, one, first, prize, everyone, ’, get, trophy, meantime, valuation, get, thrown, window, early, $, amzn, $, yhoo, investor, seems, different, gl]  \n",
       "1159                                                                                                                                                 [$, ibio, rebound, sweet, play, people, especially, &, bull, call, anyway, $, goog, $, yhoo, $, yelp, search]  \n",
       "\n",
       "[1160 rows x 2 columns]"
      ]
     },
     "execution_count": 44,
     "metadata": {},
     "output_type": "execute_result"
    }
   ],
   "source": [
    "dfs.loc[:,'Word_Token_NS_L'] = dfs.loc[:,'Word_Token_NS'].apply(lemmatize_words)\n",
    "dfs[['text','Word_Token_NS_L']]"
   ]
  },
  {
   "cell_type": "code",
   "execution_count": 45,
   "metadata": {},
   "outputs": [],
   "source": [
    "def concat_lists(x1, x2): return x1 + x2"
   ]
  },
  {
   "cell_type": "code",
   "execution_count": 62,
   "metadata": {},
   "outputs": [],
   "source": [
    "def full_bow(df,attribute):\n",
    "    bow_list = reduce(concat_lists, df[attribute])\n",
    "    bow = FreqDist(bow_list)\n",
    "    return bow   "
   ]
  },
  {
   "cell_type": "code",
   "execution_count": 47,
   "metadata": {},
   "outputs": [],
   "source": [
    "def create_bow(df,attribute):\n",
    "    bow_dict = {}\n",
    "    for ticker in df.ticker.unique():\n",
    "        ticker_words = reduce(concat_lists, df[df.ticker == ticker][attribute])\n",
    "        bow = Counter(ticker_words)\n",
    "        bow_dict[ticker] = bow\n",
    "    return bow_dict"
   ]
  },
  {
   "cell_type": "code",
   "execution_count": 63,
   "metadata": {},
   "outputs": [],
   "source": [
    "bow = full_bow(dfs,'Word_Token_NS_L')"
   ]
  },
  {
   "cell_type": "code",
   "execution_count": 65,
   "metadata": {},
   "outputs": [
    {
     "data": {
      "text/plain": [
       "[('$', 2340),\n",
       " (':', 348),\n",
       " ('&', 320),\n",
       " ('|', 174),\n",
       " ('%', 162),\n",
       " ('’', 139),\n",
       " ('stock', 139),\n",
       " ('new', 92),\n",
       " ('fb', 86),\n",
       " ('today', 81),\n",
       " ('buy', 68),\n",
       " ('news', 62),\n",
       " ('ba', 62),\n",
       " ('article', 59),\n",
       " ('see', 58),\n",
       " ('aapl', 57),\n",
       " ('market', 57),\n",
       " ('daily', 57),\n",
       " ('price', 56),\n",
       " ('msft', 54),\n",
       " ('u', 53),\n",
       " ('call', 53),\n",
       " ('get', 52),\n",
       " ('/', 52),\n",
       " ('company', 51),\n",
       " ('xom', 51),\n",
       " ('option', 50),\n",
       " ('v', 50),\n",
       " ('2020', 50),\n",
       " ('…', 49)]"
      ]
     },
     "execution_count": 65,
     "metadata": {},
     "output_type": "execute_result"
    }
   ],
   "source": [
    "bow.most_common(30)"
   ]
  },
  {
   "cell_type": "code",
   "execution_count": 52,
   "metadata": {},
   "outputs": [],
   "source": [
    "def create_fdist(df, attribute, tick):\n",
    "    ticker_words = reduce(concat_lists, df[df.ticker == tick][attribute])\n",
    "    fdist = FreqDist(ticker_words)\n",
    "    return fdist"
   ]
  },
  {
   "cell_type": "code",
   "execution_count": 55,
   "metadata": {},
   "outputs": [],
   "source": [
    "AAPL_fdist = create_fdist(dfs,'Word_Token_NS_L','AAPL')"
   ]
  },
  {
   "cell_type": "code",
   "execution_count": 56,
   "metadata": {},
   "outputs": [
    {
     "data": {
      "text/plain": [
       "FreqDist({'$': 61, 'aapl': 29, '&': 10, '’': 9, 'want': 6, 'amzn': 6, 'stock': 6, 'year': 5, 'cdc': 5, 'spy': 4, ...})"
      ]
     },
     "execution_count": 56,
     "metadata": {},
     "output_type": "execute_result"
    }
   ],
   "source": [
    "AAPL_fdist"
   ]
  },
  {
   "cell_type": "code",
   "execution_count": 58,
   "metadata": {},
   "outputs": [
    {
     "name": "stderr",
     "output_type": "stream",
     "text": [
      "c:\\Users\\jaromir\\Anaconda3\\envs\\disProject\\lib\\site-packages\\matplotlib\\backends\\backend_agg.py:214: RuntimeWarning: Glyph 55357 missing from current font.\n",
      "  font.set_text(s, 0.0, flags=flags)\n",
      "c:\\Users\\jaromir\\Anaconda3\\envs\\disProject\\lib\\site-packages\\matplotlib\\backends\\backend_agg.py:214: RuntimeWarning: Glyph 56496 missing from current font.\n",
      "  font.set_text(s, 0.0, flags=flags)\n",
      "c:\\Users\\jaromir\\Anaconda3\\envs\\disProject\\lib\\site-packages\\matplotlib\\backends\\backend_agg.py:183: RuntimeWarning: Glyph 55357 missing from current font.\n",
      "  font.set_text(s, 0, flags=flags)\n",
      "c:\\Users\\jaromir\\Anaconda3\\envs\\disProject\\lib\\site-packages\\matplotlib\\backends\\backend_agg.py:183: RuntimeWarning: Glyph 56496 missing from current font.\n",
      "  font.set_text(s, 0, flags=flags)\n"
     ]
    },
    {
     "data": {
      "image/png": "[encoded data removed]",
      "text/plain": [
       "<Figure size 432x288 with 1 Axes>"
      ]
     },
     "metadata": {
      "needs_background": "light"
     },
     "output_type": "display_data"
    }
   ],
   "source": [
    "AAPL_fdist.plot(30,cumulative=False)\n",
    "plt.show()"
   ]
  },
  {
   "cell_type": "code",
   "execution_count": null,
   "metadata": {},
   "outputs": [],
   "source": [
    "# add 2 and 3-grams"
   ]
  },
  {
   "cell_type": "code",
   "execution_count": null,
   "metadata": {},
   "outputs": [],
   "source": []
  },
  {
   "cell_type": "code",
   "execution_count": null,
   "metadata": {},
   "outputs": [],
   "source": []
  },
  {
   "cell_type": "code",
   "execution_count": null,
   "metadata": {},
   "outputs": [],
   "source": []
  },
  {
   "cell_type": "code",
   "execution_count": null,
   "metadata": {},
   "outputs": [],
   "source": []
  },
  {
   "cell_type": "code",
   "execution_count": null,
   "metadata": {},
   "outputs": [],
   "source": []
  },
  {
   "cell_type": "code",
   "execution_count": null,
   "metadata": {},
   "outputs": [],
   "source": []
  }
 ],
 "metadata": {
  "kernelspec": {
   "display_name": "disProject",
   "language": "python",
   "name": "disproject"
  },
  "language_info": {
   "codemirror_mode": {
    "name": "ipython",
    "version": 3
   },
   "file_extension": ".py",
   "mimetype": "text/x-python",
   "name": "python",
   "nbconvert_exporter": "python",
   "pygments_lexer": "ipython3",
   "version": "3.7.6"
  }
 },
 "nbformat": 4,
 "nbformat_minor": 2
}
