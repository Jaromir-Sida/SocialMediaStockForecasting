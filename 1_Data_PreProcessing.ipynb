{
 "cells": [
  {
   "cell_type": "code",
   "execution_count": 1,
   "metadata": {},
   "outputs": [],
   "source": [
    "import pandas as pd\n",
    "from glob import glob\n",
    "import re\n",
    "import matplotlib.pyplot as plt\n",
    "import numpy as np\n",
    "import scipy\n",
    "from datetime import datetime"
   ]
  },
  {
   "cell_type": "code",
   "execution_count": 2,
   "metadata": {},
   "outputs": [],
   "source": [
    "pd.set_option('display.max_colwidth',100)\n",
    "pd.set_option('max_rows',1200)\n",
    "pd.set_option('float_format', '{:d}'.format)"
   ]
  },
  {
   "cell_type": "code",
   "execution_count": 3,
   "metadata": {},
   "outputs": [],
   "source": [
    "src_data = r'c:\\Users\\jaromir\\OneDrive\\UoM\\100_Disertation\\02_SrcData\\03_RawData'"
   ]
  },
  {
   "cell_type": "code",
   "execution_count": 4,
   "metadata": {},
   "outputs": [],
   "source": [
    "filenames = glob(src_data+'\\$*.csv')"
   ]
  },
  {
   "cell_type": "code",
   "execution_count": 5,
   "metadata": {},
   "outputs": [
    {
     "data": {
      "text/plain": [
       "12"
      ]
     },
     "execution_count": 5,
     "metadata": {},
     "output_type": "execute_result"
    }
   ],
   "source": [
    "len(filenames)"
   ]
  },
  {
   "cell_type": "code",
   "execution_count": 6,
   "metadata": {},
   "outputs": [
    {
     "name": "stdout",
     "output_type": "stream",
     "text": [
      "c:\\Users\\jaromir\\OneDrive\\UoM\\100_Disertation\\02_SrcData\\03_RawData\\$AAPL_2020-01-01_2020-06-30.csv\n"
     ]
    },
    {
     "name": "stderr",
     "output_type": "stream",
     "text": [
      "c:\\Users\\jaromir\\Anaconda3\\envs\\disProject\\lib\\site-packages\\IPython\\core\\interactiveshell.py:3063: DtypeWarning: Columns (0,4,5,6,7,9,14) have mixed types.Specify dtype option on import or set low_memory=False.\n",
      "  interactivity=interactivity, compiler=compiler, result=result)\n"
     ]
    },
    {
     "name": "stdout",
     "output_type": "stream",
     "text": [
      "c:\\Users\\jaromir\\OneDrive\\UoM\\100_Disertation\\02_SrcData\\03_RawData\\$AMZN_2020-01-01_2020-06-30.csv\n",
      "c:\\Users\\jaromir\\OneDrive\\UoM\\100_Disertation\\02_SrcData\\03_RawData\\$BABA_2020-01-01_2020-06-30.csv\n",
      "c:\\Users\\jaromir\\OneDrive\\UoM\\100_Disertation\\02_SrcData\\03_RawData\\$DLT_2020-01-01_2020-06-30.csv\n",
      "c:\\Users\\jaromir\\OneDrive\\UoM\\100_Disertation\\02_SrcData\\03_RawData\\$GILD_2020-01-01_2020-06-30.csv\n",
      "c:\\Users\\jaromir\\OneDrive\\UoM\\100_Disertation\\02_SrcData\\03_RawData\\$HLT_2020-01-01_2020-06-30.csv\n",
      "c:\\Users\\jaromir\\OneDrive\\UoM\\100_Disertation\\02_SrcData\\03_RawData\\$JNJ_2020-01-01_2020-06-30.csv\n",
      "c:\\Users\\jaromir\\OneDrive\\UoM\\100_Disertation\\02_SrcData\\03_RawData\\$MAR_2020-01-01_2020-06-30.csv\n",
      "c:\\Users\\jaromir\\OneDrive\\UoM\\100_Disertation\\02_SrcData\\03_RawData\\$MCD_2020-01-01_2020-06-30.csv\n",
      "c:\\Users\\jaromir\\OneDrive\\UoM\\100_Disertation\\02_SrcData\\03_RawData\\$MSFT_2020-01-01_2020-06-30.csv\n",
      "c:\\Users\\jaromir\\OneDrive\\UoM\\100_Disertation\\02_SrcData\\03_RawData\\$QSR_2020-01-01_2020-06-30.csv\n",
      "c:\\Users\\jaromir\\OneDrive\\UoM\\100_Disertation\\02_SrcData\\03_RawData\\$UAL_2020-01-01_2020-06-30.csv\n"
     ]
    }
   ],
   "source": [
    "df = pd.DataFrame()\n",
    "for file in filenames:\n",
    "    # read a csv from source folder\n",
    "    print(file)\n",
    "    data = pd.read_csv(file, encoding = 'utf-8') # dtype = data_types_raw\n",
    "    # parese the name of the file to extract the ticker name and save it \n",
    "    # as a new attribute\n",
    "    data['ticker'] = re.search(r'\\$[A-Z]+_',file).group(0)[1:-1]\n",
    "    # concatenate the csv with the rest of the DataFrame\n",
    "    df = pd.concat([df, data], axis=0, sort = False, ignore_index = True)\n",
    "df.drop(labels = 'Unnamed: 0', inplace=True, axis=1)"
   ]
  },
  {
   "cell_type": "code",
   "execution_count": 7,
   "metadata": {},
   "outputs": [
    {
     "name": "stdout",
     "output_type": "stream",
     "text": [
      "436313 rows loaded.\n"
     ]
    }
   ],
   "source": [
    "df_shape_raw = df.shape[0]\n",
    "print(f\"{df_shape_raw} rows loaded.\")"
   ]
  },
  {
   "cell_type": "markdown",
   "metadata": {},
   "source": [
    "### remove duplicate and invalid rows with NaN or Header values"
   ]
  },
  {
   "cell_type": "code",
   "execution_count": 8,
   "metadata": {},
   "outputs": [],
   "source": [
    "df_counts = pd.DataFrame()\n",
    "counts_raw = df.groupby(['ticker']).text.count()\n",
    "df_counts['raw_data_count'] = counts_raw"
   ]
  },
  {
   "cell_type": "code",
   "execution_count": 9,
   "metadata": {},
   "outputs": [],
   "source": [
    "# remove duplicates\n",
    "df.drop_duplicates(subset = [\"ticker\",\"permalink\",\"date\"], keep = 'first', inplace = True)\n",
    "\n",
    "# calculates dropped rows\n",
    "counts_duplicates =  df.groupby(['ticker']).text.count()\n",
    "df_counts['duplicates'] = counts_raw - counts_duplicates"
   ]
  },
  {
   "cell_type": "code",
   "execution_count": 10,
   "metadata": {},
   "outputs": [],
   "source": [
    "# drop all rows with only NaN values\n",
    "df.drop(labels = df.loc[df.iloc[:,:-1].isna().all(axis=1),:].index , axis=0, inplace=True)\n",
    "\n",
    "# calculates dropped rows\n",
    "counts_nan = df.groupby(['ticker']).text.count() \n",
    "df_counts['NaN'] = counts_duplicates - counts_nan"
   ]
  },
  {
   "cell_type": "code",
   "execution_count": 11,
   "metadata": {},
   "outputs": [],
   "source": [
    "# drop all rows no text\n",
    "df.drop(labels = df.loc[df.text.isna(),:].index , axis=0, inplace=True)\n",
    "\n",
    "# calculates dropped rows\n",
    "counts_missing_text = df.groupby(['ticker']).text.count() \n",
    "df_counts['missing_text'] = counts_duplicates - counts_missing_text"
   ]
  },
  {
   "cell_type": "code",
   "execution_count": 12,
   "metadata": {},
   "outputs": [],
   "source": [
    "# drop all rows with headers in it\n",
    "df.drop(labels = df[df.username == 'username'].index , axis=0, inplace=True)\n",
    "\n",
    "# calculates dropped rows\n",
    "counts_header =  df.groupby(['ticker']).text.count()\n",
    "df_counts['headers'] = counts_nan - counts_header"
   ]
  },
  {
   "cell_type": "code",
   "execution_count": 13,
   "metadata": {},
   "outputs": [
    {
     "name": "stdout",
     "output_type": "stream",
     "text": [
      "Wall time: 839 ms\n"
     ]
    }
   ],
   "source": [
    "%%time\n",
    "# set datetime datatype\n",
    "df.date = pd.to_datetime(df.date, utc=True, errors = 'coerce')"
   ]
  },
  {
   "cell_type": "code",
   "execution_count": 14,
   "metadata": {},
   "outputs": [],
   "source": [
    "# drop all values which fall outside of the range 2020-01-01 : 2020:06:30\n",
    "df.drop(labels=df[(df.date.dt.date < pd.to_datetime('2020-01-01')) | (df.date.dt.date > pd.to_datetime('2020-06-30'))].index,\n",
    "        axis=0 ,\n",
    "        inplace = True)\n",
    "df.reset_index(drop=True, inplace=True)\n",
    "\n",
    "# calculates dropped rows\n",
    "counts_out_of_range =  df.groupby(['ticker']).text.count()\n",
    "df_counts['oor'] = counts_header - counts_out_of_range"
   ]
  },
  {
   "cell_type": "code",
   "execution_count": 15,
   "metadata": {},
   "outputs": [],
   "source": [
    "# drop all rows with missing username\n",
    "df.drop(labels = df[df.username.isna()].index , axis=0, inplace=True)\n",
    "\n",
    "# calculates dropped rows\n",
    "counts_missing_user =  df.groupby(['ticker']).text.count()\n",
    "df_counts['missing_user'] = counts_header - counts_missing_user"
   ]
  },
  {
   "cell_type": "code",
   "execution_count": 16,
   "metadata": {},
   "outputs": [],
   "source": [
    "df_counts['Total'] = df_counts.iloc[:,0] - df_counts.iloc[:,1:].sum(axis=1)"
   ]
  },
  {
   "cell_type": "code",
   "execution_count": 17,
   "metadata": {},
   "outputs": [],
   "source": [
    "df_counts.loc['Total']= df_counts.sum()"
   ]
  },
  {
   "cell_type": "code",
   "execution_count": 18,
   "metadata": {},
   "outputs": [
    {
     "data": {
      "text/html": [
       "<div>\n",
       "<style scoped>\n",
       "    .dataframe tbody tr th:only-of-type {\n",
       "        vertical-align: middle;\n",
       "    }\n",
       "\n",
       "    .dataframe tbody tr th {\n",
       "        vertical-align: top;\n",
       "    }\n",
       "\n",
       "    .dataframe thead th {\n",
       "        text-align: right;\n",
       "    }\n",
       "</style>\n",
       "<table border=\"1\" class=\"dataframe\">\n",
       "  <thead>\n",
       "    <tr style=\"text-align: right;\">\n",
       "      <th></th>\n",
       "      <th>raw_data_count</th>\n",
       "      <th>duplicates</th>\n",
       "      <th>NaN</th>\n",
       "      <th>missing_text</th>\n",
       "      <th>headers</th>\n",
       "      <th>oor</th>\n",
       "      <th>missing_user</th>\n",
       "      <th>Total</th>\n",
       "    </tr>\n",
       "    <tr>\n",
       "      <th>ticker</th>\n",
       "      <th></th>\n",
       "      <th></th>\n",
       "      <th></th>\n",
       "      <th></th>\n",
       "      <th></th>\n",
       "      <th></th>\n",
       "      <th></th>\n",
       "      <th></th>\n",
       "    </tr>\n",
       "  </thead>\n",
       "  <tbody>\n",
       "    <tr>\n",
       "      <th>AAPL</th>\n",
       "      <td>131420</td>\n",
       "      <td>5206</td>\n",
       "      <td>0</td>\n",
       "      <td>0</td>\n",
       "      <td>1</td>\n",
       "      <td>4</td>\n",
       "      <td>4</td>\n",
       "      <td>126205</td>\n",
       "    </tr>\n",
       "    <tr>\n",
       "      <th>AMZN</th>\n",
       "      <td>105171</td>\n",
       "      <td>5029</td>\n",
       "      <td>0</td>\n",
       "      <td>0</td>\n",
       "      <td>0</td>\n",
       "      <td>5</td>\n",
       "      <td>5</td>\n",
       "      <td>100132</td>\n",
       "    </tr>\n",
       "    <tr>\n",
       "      <th>BABA</th>\n",
       "      <td>31418</td>\n",
       "      <td>1565</td>\n",
       "      <td>0</td>\n",
       "      <td>0</td>\n",
       "      <td>0</td>\n",
       "      <td>3</td>\n",
       "      <td>3</td>\n",
       "      <td>29847</td>\n",
       "    </tr>\n",
       "    <tr>\n",
       "      <th>DLT</th>\n",
       "      <td>1945</td>\n",
       "      <td>147</td>\n",
       "      <td>0</td>\n",
       "      <td>0</td>\n",
       "      <td>0</td>\n",
       "      <td>4</td>\n",
       "      <td>4</td>\n",
       "      <td>1790</td>\n",
       "    </tr>\n",
       "    <tr>\n",
       "      <th>GILD</th>\n",
       "      <td>39527</td>\n",
       "      <td>1169</td>\n",
       "      <td>0</td>\n",
       "      <td>0</td>\n",
       "      <td>1</td>\n",
       "      <td>5</td>\n",
       "      <td>5</td>\n",
       "      <td>38347</td>\n",
       "    </tr>\n",
       "    <tr>\n",
       "      <th>HLT</th>\n",
       "      <td>3399</td>\n",
       "      <td>216</td>\n",
       "      <td>0</td>\n",
       "      <td>0</td>\n",
       "      <td>1</td>\n",
       "      <td>6</td>\n",
       "      <td>6</td>\n",
       "      <td>3170</td>\n",
       "    </tr>\n",
       "    <tr>\n",
       "      <th>JNJ</th>\n",
       "      <td>16157</td>\n",
       "      <td>824</td>\n",
       "      <td>0</td>\n",
       "      <td>0</td>\n",
       "      <td>1</td>\n",
       "      <td>6</td>\n",
       "      <td>6</td>\n",
       "      <td>15320</td>\n",
       "    </tr>\n",
       "    <tr>\n",
       "      <th>MAR</th>\n",
       "      <td>5392</td>\n",
       "      <td>300</td>\n",
       "      <td>0</td>\n",
       "      <td>0</td>\n",
       "      <td>0</td>\n",
       "      <td>4</td>\n",
       "      <td>4</td>\n",
       "      <td>5084</td>\n",
       "    </tr>\n",
       "    <tr>\n",
       "      <th>MCD</th>\n",
       "      <td>9859</td>\n",
       "      <td>505</td>\n",
       "      <td>0</td>\n",
       "      <td>0</td>\n",
       "      <td>0</td>\n",
       "      <td>7</td>\n",
       "      <td>7</td>\n",
       "      <td>9340</td>\n",
       "    </tr>\n",
       "    <tr>\n",
       "      <th>MSFT</th>\n",
       "      <td>69356</td>\n",
       "      <td>2619</td>\n",
       "      <td>0</td>\n",
       "      <td>0</td>\n",
       "      <td>0</td>\n",
       "      <td>5</td>\n",
       "      <td>5</td>\n",
       "      <td>66727</td>\n",
       "    </tr>\n",
       "    <tr>\n",
       "      <th>QSR</th>\n",
       "      <td>2642</td>\n",
       "      <td>182</td>\n",
       "      <td>0</td>\n",
       "      <td>0</td>\n",
       "      <td>0</td>\n",
       "      <td>4</td>\n",
       "      <td>4</td>\n",
       "      <td>2452</td>\n",
       "    </tr>\n",
       "    <tr>\n",
       "      <th>UAL</th>\n",
       "      <td>20016</td>\n",
       "      <td>998</td>\n",
       "      <td>0</td>\n",
       "      <td>0</td>\n",
       "      <td>0</td>\n",
       "      <td>9</td>\n",
       "      <td>9</td>\n",
       "      <td>19000</td>\n",
       "    </tr>\n",
       "    <tr>\n",
       "      <th>Total</th>\n",
       "      <td>436302</td>\n",
       "      <td>18760</td>\n",
       "      <td>0</td>\n",
       "      <td>0</td>\n",
       "      <td>4</td>\n",
       "      <td>62</td>\n",
       "      <td>62</td>\n",
       "      <td>417414</td>\n",
       "    </tr>\n",
       "  </tbody>\n",
       "</table>\n",
       "</div>"
      ],
      "text/plain": [
       "        raw_data_count  duplicates  NaN  missing_text  headers  oor  \\\n",
       "ticker                                                                \n",
       "AAPL            131420        5206    0             0        1    4   \n",
       "AMZN            105171        5029    0             0        0    5   \n",
       "BABA             31418        1565    0             0        0    3   \n",
       "DLT               1945         147    0             0        0    4   \n",
       "GILD             39527        1169    0             0        1    5   \n",
       "HLT               3399         216    0             0        1    6   \n",
       "JNJ              16157         824    0             0        1    6   \n",
       "MAR               5392         300    0             0        0    4   \n",
       "MCD               9859         505    0             0        0    7   \n",
       "MSFT             69356        2619    0             0        0    5   \n",
       "QSR               2642         182    0             0        0    4   \n",
       "UAL              20016         998    0             0        0    9   \n",
       "Total           436302       18760    0             0        4   62   \n",
       "\n",
       "        missing_user   Total  \n",
       "ticker                        \n",
       "AAPL               4  126205  \n",
       "AMZN               5  100132  \n",
       "BABA               3   29847  \n",
       "DLT                4    1790  \n",
       "GILD               5   38347  \n",
       "HLT                6    3170  \n",
       "JNJ                6   15320  \n",
       "MAR                4    5084  \n",
       "MCD                7    9340  \n",
       "MSFT               5   66727  \n",
       "QSR                4    2452  \n",
       "UAL                9   19000  \n",
       "Total             62  417414  "
      ]
     },
     "execution_count": 18,
     "metadata": {},
     "output_type": "execute_result"
    }
   ],
   "source": [
    "df_counts"
   ]
  },
  {
   "cell_type": "markdown",
   "metadata": {},
   "source": [
    "### Set proper datatypes"
   ]
  },
  {
   "cell_type": "code",
   "execution_count": 19,
   "metadata": {},
   "outputs": [],
   "source": [
    "data_types_raw = {  'username': 'object',\n",
    "                'to': 'object',\n",
    "                'text': 'object',\n",
    "                'retweets': 'int64',\n",
    "                'favorites': 'int64',\n",
    "                'replies': 'int64',\n",
    "                'id': 'int64',\n",
    "                'permalink': 'object',\n",
    "                'author_id': 'int64',\n",
    "                'date': 'object',\n",
    "                'formatted_date': 'object',\n",
    "                'hashtags': 'object',\n",
    "                'mentions': 'object',\n",
    "                'geo': 'object',\n",
    "                'urls': 'object',\n",
    "                'ticker': 'object' }"
   ]
  },
  {
   "cell_type": "code",
   "execution_count": 20,
   "metadata": {},
   "outputs": [],
   "source": [
    "df = df.astype(data_types_raw)"
   ]
  },
  {
   "cell_type": "markdown",
   "metadata": {},
   "source": [
    "## Check size and inspect"
   ]
  },
  {
   "cell_type": "code",
   "execution_count": 21,
   "metadata": {},
   "outputs": [
    {
     "data": {
      "text/plain": [
       "408.5095958709717"
      ]
     },
     "execution_count": 21,
     "metadata": {},
     "output_type": "execute_result"
    }
   ],
   "source": [
    "df.memory_usage(deep=True).sum()/1024**2"
   ]
  },
  {
   "cell_type": "code",
   "execution_count": 22,
   "metadata": {},
   "outputs": [
    {
     "data": {
      "text/html": [
       "<div>\n",
       "<style scoped>\n",
       "    .dataframe tbody tr th:only-of-type {\n",
       "        vertical-align: middle;\n",
       "    }\n",
       "\n",
       "    .dataframe tbody tr th {\n",
       "        vertical-align: top;\n",
       "    }\n",
       "\n",
       "    .dataframe thead th {\n",
       "        text-align: right;\n",
       "    }\n",
       "</style>\n",
       "<table border=\"1\" class=\"dataframe\">\n",
       "  <thead>\n",
       "    <tr style=\"text-align: right;\">\n",
       "      <th></th>\n",
       "      <th>username</th>\n",
       "      <th>to</th>\n",
       "      <th>text</th>\n",
       "      <th>retweets</th>\n",
       "      <th>favorites</th>\n",
       "      <th>replies</th>\n",
       "      <th>id</th>\n",
       "      <th>permalink</th>\n",
       "      <th>author_id</th>\n",
       "      <th>date</th>\n",
       "      <th>formatted_date</th>\n",
       "      <th>hashtags</th>\n",
       "      <th>mentions</th>\n",
       "      <th>geo</th>\n",
       "      <th>urls</th>\n",
       "      <th>ticker</th>\n",
       "    </tr>\n",
       "  </thead>\n",
       "  <tbody>\n",
       "    <tr>\n",
       "      <th>0</th>\n",
       "      <td>DoejiStar</td>\n",
       "      <td>NaN</td>\n",
       "      <td>2019 Jan 2nd (22:30gmt) $JPY flash crash backdrop: - risk aversion sentiment on political risks ...</td>\n",
       "      <td>0</td>\n",
       "      <td>2</td>\n",
       "      <td>0</td>\n",
       "      <td>1212522035525476352</td>\n",
       "      <td>https://twitter.com/DoejiStar/status/1212522035525476352</td>\n",
       "      <td>507108497</td>\n",
       "      <td>2020-01-01 23:52:35+00:00</td>\n",
       "      <td>Wed Jan 01 23:52:35 +0000 2020</td>\n",
       "      <td>#Caixin</td>\n",
       "      <td>NaN</td>\n",
       "      <td>NaN</td>\n",
       "      <td>NaN</td>\n",
       "      <td>AAPL</td>\n",
       "    </tr>\n",
       "    <tr>\n",
       "      <th>1</th>\n",
       "      <td>PigOfFed</td>\n",
       "      <td>MarcoMNYC</td>\n",
       "      <td>Should've been $spx 4,000 i mean the fed balance sheet is never going down again, $aapl at 400 &amp;...</td>\n",
       "      <td>0</td>\n",
       "      <td>1</td>\n",
       "      <td>0</td>\n",
       "      <td>1212521491398565894</td>\n",
       "      <td>https://twitter.com/PigOfFed/status/1212521491398565894</td>\n",
       "      <td>1182741182310486016</td>\n",
       "      <td>2020-01-01 23:50:25+00:00</td>\n",
       "      <td>Wed Jan 01 23:50:25 +0000 2020</td>\n",
       "      <td>NaN</td>\n",
       "      <td>NaN</td>\n",
       "      <td>NaN</td>\n",
       "      <td>NaN</td>\n",
       "      <td>AAPL</td>\n",
       "    </tr>\n",
       "    <tr>\n",
       "      <th>2</th>\n",
       "      <td>mikeharrisNY</td>\n",
       "      <td>NaN</td>\n",
       "      <td>Market driver 2019. $AAPL had highest approx. turnover (price x volume) in $DJIA</td>\n",
       "      <td>1</td>\n",
       "      <td>12</td>\n",
       "      <td>0</td>\n",
       "      <td>1212520476129583104</td>\n",
       "      <td>https://twitter.com/mikeharrisNY/status/1212520476129583104</td>\n",
       "      <td>179571631</td>\n",
       "      <td>2020-01-01 23:46:23+00:00</td>\n",
       "      <td>Wed Jan 01 23:46:23 +0000 2020</td>\n",
       "      <td>NaN</td>\n",
       "      <td>NaN</td>\n",
       "      <td>NaN</td>\n",
       "      <td>NaN</td>\n",
       "      <td>AAPL</td>\n",
       "    </tr>\n",
       "    <tr>\n",
       "      <th>3</th>\n",
       "      <td>maythefroth</td>\n",
       "      <td>business</td>\n",
       "      <td>$AAPL He who is closest to the consumer wins.</td>\n",
       "      <td>0</td>\n",
       "      <td>0</td>\n",
       "      <td>0</td>\n",
       "      <td>1212519746073030658</td>\n",
       "      <td>https://twitter.com/maythefroth/status/1212519746073030658</td>\n",
       "      <td>940149583459491840</td>\n",
       "      <td>2020-01-01 23:43:29+00:00</td>\n",
       "      <td>Wed Jan 01 23:43:29 +0000 2020</td>\n",
       "      <td>NaN</td>\n",
       "      <td>NaN</td>\n",
       "      <td>NaN</td>\n",
       "      <td>https://twitter.com/business/status/1212516202620301312</td>\n",
       "      <td>AAPL</td>\n",
       "    </tr>\n",
       "    <tr>\n",
       "      <th>4</th>\n",
       "      <td>_steve2_</td>\n",
       "      <td>NaN</td>\n",
       "      <td>Come Sail Away http://With.me Tim @tim_cook $aapl it will be fine</td>\n",
       "      <td>0</td>\n",
       "      <td>1</td>\n",
       "      <td>0</td>\n",
       "      <td>1212519187333156874</td>\n",
       "      <td>https://twitter.com/_steve2_/status/1212519187333156874</td>\n",
       "      <td>3193289931</td>\n",
       "      <td>2020-01-01 23:41:16+00:00</td>\n",
       "      <td>Wed Jan 01 23:41:16 +0000 2020</td>\n",
       "      <td>NaN</td>\n",
       "      <td>@tim_cook</td>\n",
       "      <td>NaN</td>\n",
       "      <td>http://With.me</td>\n",
       "      <td>AAPL</td>\n",
       "    </tr>\n",
       "  </tbody>\n",
       "</table>\n",
       "</div>"
      ],
      "text/plain": [
       "       username         to  \\\n",
       "0     DoejiStar        NaN   \n",
       "1      PigOfFed  MarcoMNYC   \n",
       "2  mikeharrisNY        NaN   \n",
       "3   maythefroth   business   \n",
       "4      _steve2_        NaN   \n",
       "\n",
       "                                                                                                  text  \\\n",
       "0  2019 Jan 2nd (22:30gmt) $JPY flash crash backdrop: - risk aversion sentiment on political risks ...   \n",
       "1  Should've been $spx 4,000 i mean the fed balance sheet is never going down again, $aapl at 400 &...   \n",
       "2                     Market driver 2019. $AAPL had highest approx. turnover (price x volume) in $DJIA   \n",
       "3                                                       $AAPL He who is closest to the consumer wins.    \n",
       "4                                   Come Sail Away http://With.me Tim @tim_cook $aapl it will be fine    \n",
       "\n",
       "   retweets  favorites  replies                   id  \\\n",
       "0         0          2        0  1212522035525476352   \n",
       "1         0          1        0  1212521491398565894   \n",
       "2         1         12        0  1212520476129583104   \n",
       "3         0          0        0  1212519746073030658   \n",
       "4         0          1        0  1212519187333156874   \n",
       "\n",
       "                                                     permalink  \\\n",
       "0     https://twitter.com/DoejiStar/status/1212522035525476352   \n",
       "1      https://twitter.com/PigOfFed/status/1212521491398565894   \n",
       "2  https://twitter.com/mikeharrisNY/status/1212520476129583104   \n",
       "3   https://twitter.com/maythefroth/status/1212519746073030658   \n",
       "4      https://twitter.com/_steve2_/status/1212519187333156874   \n",
       "\n",
       "             author_id                       date  \\\n",
       "0            507108497  2020-01-01 23:52:35+00:00   \n",
       "1  1182741182310486016  2020-01-01 23:50:25+00:00   \n",
       "2            179571631  2020-01-01 23:46:23+00:00   \n",
       "3   940149583459491840  2020-01-01 23:43:29+00:00   \n",
       "4           3193289931  2020-01-01 23:41:16+00:00   \n",
       "\n",
       "                   formatted_date hashtags   mentions  geo  \\\n",
       "0  Wed Jan 01 23:52:35 +0000 2020  #Caixin        NaN  NaN   \n",
       "1  Wed Jan 01 23:50:25 +0000 2020      NaN        NaN  NaN   \n",
       "2  Wed Jan 01 23:46:23 +0000 2020      NaN        NaN  NaN   \n",
       "3  Wed Jan 01 23:43:29 +0000 2020      NaN        NaN  NaN   \n",
       "4  Wed Jan 01 23:41:16 +0000 2020      NaN  @tim_cook  NaN   \n",
       "\n",
       "                                                      urls ticker  \n",
       "0                                                      NaN   AAPL  \n",
       "1                                                      NaN   AAPL  \n",
       "2                                                      NaN   AAPL  \n",
       "3  https://twitter.com/business/status/1212516202620301312   AAPL  \n",
       "4                                           http://With.me   AAPL  "
      ]
     },
     "execution_count": 22,
     "metadata": {},
     "output_type": "execute_result"
    }
   ],
   "source": [
    "df.head()"
   ]
  },
  {
   "cell_type": "code",
   "execution_count": 23,
   "metadata": {},
   "outputs": [
    {
     "name": "stdout",
     "output_type": "stream",
     "text": [
      "<class 'pandas.core.frame.DataFrame'>\n",
      "Int64Index: 417476 entries, 0 to 417475\n",
      "Data columns (total 16 columns):\n",
      " #   Column          Non-Null Count   Dtype \n",
      "---  ------          --------------   ----- \n",
      " 0   username        417476 non-null  object\n",
      " 1   to              66987 non-null   object\n",
      " 2   text            417476 non-null  object\n",
      " 3   retweets        417476 non-null  int64 \n",
      " 4   favorites       417476 non-null  int64 \n",
      " 5   replies         417476 non-null  int64 \n",
      " 6   id              417476 non-null  int64 \n",
      " 7   permalink       417476 non-null  object\n",
      " 8   author_id       417476 non-null  int64 \n",
      " 9   date            417476 non-null  object\n",
      " 10  formatted_date  417476 non-null  object\n",
      " 11  hashtags        127113 non-null  object\n",
      " 12  mentions        42820 non-null   object\n",
      " 13  geo             0 non-null       object\n",
      " 14  urls            192731 non-null  object\n",
      " 15  ticker          417476 non-null  object\n",
      "dtypes: int64(5), object(11)\n",
      "memory usage: 54.1+ MB\n"
     ]
    }
   ],
   "source": [
    "df.info()"
   ]
  },
  {
   "cell_type": "code",
   "execution_count": 24,
   "metadata": {},
   "outputs": [],
   "source": [
    "categorical_data_types = {  'username': 'category',\n",
    "                            'to': 'category',\n",
    "                            'hashtags': 'category',\n",
    "                            'mentions': 'category',\n",
    "                            'ticker': 'category' }"
   ]
  },
  {
   "cell_type": "code",
   "execution_count": 25,
   "metadata": {},
   "outputs": [],
   "source": [
    "df = df.astype(categorical_data_types)"
   ]
  },
  {
   "cell_type": "code",
   "execution_count": 26,
   "metadata": {},
   "outputs": [],
   "source": [
    "# set datetime datatype\n",
    "# df.formatted_date = pd.to_datetime(df.formatted_date, utc=True, errors = 'coerce')"
   ]
  },
  {
   "cell_type": "code",
   "execution_count": 27,
   "metadata": {},
   "outputs": [],
   "source": [
    "def reduce_mem_usage(df, verbose=True):\n",
    "    \"\"\" optimize memory usage by selecting an optimal datatype for each numeric feature \"\"\"\n",
    "    \n",
    "    numerics = ['int16', 'int32', 'int64', 'float16', 'float32', 'float64']\n",
    "    start_mem = df.memory_usage(deep=True).sum() / 1024**2    \n",
    "    for col in df.columns:\n",
    "        col_type = df[col].dtypes\n",
    "        if col_type in numerics:\n",
    "            c_min = df[col].min()\n",
    "            c_max = df[col].max()\n",
    "            if str(col_type)[:3] == 'int':\n",
    "                if c_min > np.iinfo(np.int8).min and c_max < np.iinfo(np.int8).max:\n",
    "                    df[col] = df[col].astype(np.int8)\n",
    "                elif c_min > np.iinfo(np.int16).min and c_max < np.iinfo(np.int16).max:\n",
    "                       df[col] = df[col].astype(np.int16)\n",
    "                elif c_min > np.iinfo(np.int32).min and c_max < np.iinfo(np.int32).max:\n",
    "                    df[col] = df[col].astype(np.int32)\n",
    "                elif c_min > np.iinfo(np.int64).min and c_max < np.iinfo(np.int64).max:\n",
    "                    df[col] = df[col].astype(np.int64)  \n",
    "            else:\n",
    "                if c_min > np.finfo(np.float16).min and c_max < np.finfo(np.float16).max:\n",
    "                    df[col] = df[col].astype(np.float16)\n",
    "                elif c_min > np.finfo(np.float32).min and c_max < np.finfo(np.float32).max:\n",
    "                    df[col] = df[col].astype(np.float32)\n",
    "                else:\n",
    "                    df[col] = df[col].astype(np.float64)    \n",
    "    end_mem = df.memory_usage(deep=True).sum() / 1024**2\n",
    "    if verbose: print('Mem. usage decreased to {:5.2f} Mb ({:.1f}% reduction)'.format(end_mem, 100 \\\n",
    "                                                                                      * (start_mem - end_mem) / start_mem))\n",
    "    return df"
   ]
  },
  {
   "cell_type": "code",
   "execution_count": 28,
   "metadata": {},
   "outputs": [
    {
     "name": "stdout",
     "output_type": "stream",
     "text": [
      "Mem. usage decreased to 313.71 Mb (2.2% reduction)\n",
      "Wall time: 17.5 s\n"
     ]
    }
   ],
   "source": [
    "%%time\n",
    "df = reduce_mem_usage(df)"
   ]
  },
  {
   "cell_type": "code",
   "execution_count": 29,
   "metadata": {},
   "outputs": [
    {
     "name": "stdout",
     "output_type": "stream",
     "text": [
      "<class 'pandas.core.frame.DataFrame'>\n",
      "Int64Index: 417476 entries, 0 to 417475\n",
      "Data columns (total 16 columns):\n",
      " #   Column          Non-Null Count   Dtype   \n",
      "---  ------          --------------   -----   \n",
      " 0   username        417476 non-null  category\n",
      " 1   to              66987 non-null   category\n",
      " 2   text            417476 non-null  object  \n",
      " 3   retweets        417476 non-null  int16   \n",
      " 4   favorites       417476 non-null  int16   \n",
      " 5   replies         417476 non-null  int16   \n",
      " 6   id              417476 non-null  int64   \n",
      " 7   permalink       417476 non-null  object  \n",
      " 8   author_id       417476 non-null  int64   \n",
      " 9   date            417476 non-null  object  \n",
      " 10  formatted_date  417476 non-null  object  \n",
      " 11  hashtags        127113 non-null  category\n",
      " 12  mentions        42820 non-null   category\n",
      " 13  geo             0 non-null       object  \n",
      " 14  urls            192731 non-null  object  \n",
      " 15  ticker          417476 non-null  category\n",
      "dtypes: category(5), int16(3), int64(2), object(6)\n",
      "memory usage: 38.7+ MB\n"
     ]
    }
   ],
   "source": [
    "df.info()"
   ]
  },
  {
   "cell_type": "code",
   "execution_count": 30,
   "metadata": {},
   "outputs": [],
   "source": [
    "# drop unnecessary Column1 and geo\n",
    "df = df.drop(['geo','formatted_date','permalink'], axis = 1)"
   ]
  },
  {
   "cell_type": "markdown",
   "metadata": {},
   "source": [
    "## Regroup tweets to correspond with market opening times "
   ]
  },
  {
   "cell_type": "code",
   "execution_count": 31,
   "metadata": {},
   "outputs": [],
   "source": [
    "df1 = df.copy()"
   ]
  },
  {
   "cell_type": "code",
   "execution_count": 32,
   "metadata": {},
   "outputs": [],
   "source": [
    "df = df1.copy()"
   ]
  },
  {
   "cell_type": "code",
   "execution_count": 33,
   "metadata": {},
   "outputs": [],
   "source": [
    "def numConcat(a):\n",
    "    return int(f\"{a[0]}{a[1]:02}\")"
   ]
  },
  {
   "cell_type": "code",
   "execution_count": 34,
   "metadata": {},
   "outputs": [],
   "source": [
    "# tied afterhours with the next day\n",
    "\n",
    "# date from Twitter is in UTC, NYSE's opening times are 2:30 p.m. to 9 p.m.\n",
    "# for two consecutive days A and B, anything after 9pm on day A untill 9pm on B is day B\n",
    "# weekend traffic is grouped together with Monday \n",
    "\n",
    "df['weekday'] = df.date.dt.weekday\n",
    "df['hour'] = df.date.dt.hour\n",
    "df['minute'] = df.date.dt.minute\n",
    "df['date_short'] = pd.to_datetime(df.date.dt.date)\n",
    "df['army_time'] = df[['hour','minute']].apply(numConcat, axis=1)"
   ]
  },
  {
   "cell_type": "code",
   "execution_count": 35,
   "metadata": {},
   "outputs": [],
   "source": [
    "df['sentiment_collection_period'] = df['weekday']\n",
    "df['sentiment_collection_date'] = pd.to_datetime(df.date.dt.date)"
   ]
  },
  {
   "cell_type": "code",
   "execution_count": 36,
   "metadata": {},
   "outputs": [
    {
     "data": {
      "text/plain": [
       "weekday\n",
       "0    70116\n",
       "1    72761\n",
       "2    74521\n",
       "3    75349\n",
       "4    68250\n",
       "5    28035\n",
       "6    28444\n",
       "Name: id, dtype: int64"
      ]
     },
     "execution_count": 36,
     "metadata": {},
     "output_type": "execute_result"
    }
   ],
   "source": [
    "# tweets are more or less equally distributed across all weekdays with a clear drop over the weekends\n",
    "day_distribution_raw = df.groupby(['weekday']).id.count()\n",
    "day_distribution_raw"
   ]
  },
  {
   "cell_type": "code",
   "execution_count": 37,
   "metadata": {},
   "outputs": [
    {
     "data": {
      "image/png": "[encoded data removed]",
      "text/plain": [
       "<Figure size 576x432 with 1 Axes>"
      ]
     },
     "metadata": {
      "needs_background": "light"
     },
     "output_type": "display_data"
    }
   ],
   "source": [
    "plt.figure(figsize=(8,6))\n",
    "plt.bar(day_distribution_raw.index, day_distribution_raw.values)\n",
    "plt.xticks(range(7),['Mon','Tue','Wed','Thu','Fri','Sat','Sun'], rotation=45)\n",
    "plt.title('Tweets per day', fontsize=12, pad=15)\n",
    "plt.xlabel('Day of week', fontsize=12)\n",
    "plt.ylabel('Total number of tweets collected', fontsize=12)\n",
    "plt.tight_layout()\n",
    "plt.show()"
   ]
  },
  {
   "cell_type": "code",
   "execution_count": 38,
   "metadata": {},
   "outputs": [],
   "source": [
    "# sentiment collection period indicates to which day of the week the tweets belongs\n",
    "# aka. any tweets after 21:30 belongs to the next day\n",
    "# tweets from sunday = 6 belong to monday = 0 , hence the modulo 7\n",
    "\n",
    "df['sentiment_collection_period'].mask(df.army_time > 2130 , (df.weekday + 1) % 7, inplace= True)"
   ]
  },
  {
   "cell_type": "code",
   "execution_count": 39,
   "metadata": {},
   "outputs": [],
   "source": [
    "# tweets which are moves to the weeknd are also counted as Monday\n",
    "df['sentiment_collection_period'].mask((df.sentiment_collection_period.isin([5,6])), 0, inplace = True)"
   ]
  },
  {
   "cell_type": "code",
   "execution_count": 40,
   "metadata": {},
   "outputs": [
    {
     "data": {
      "text/html": [
       "<div>\n",
       "<style scoped>\n",
       "    .dataframe tbody tr th:only-of-type {\n",
       "        vertical-align: middle;\n",
       "    }\n",
       "\n",
       "    .dataframe tbody tr th {\n",
       "        vertical-align: top;\n",
       "    }\n",
       "\n",
       "    .dataframe thead th {\n",
       "        text-align: right;\n",
       "    }\n",
       "</style>\n",
       "<table border=\"1\" class=\"dataframe\">\n",
       "  <thead>\n",
       "    <tr style=\"text-align: right;\">\n",
       "      <th></th>\n",
       "      <th>date</th>\n",
       "      <th>date_short</th>\n",
       "      <th>weekday</th>\n",
       "      <th>hour</th>\n",
       "      <th>minute</th>\n",
       "      <th>army_time</th>\n",
       "      <th>sentiment_collection_period</th>\n",
       "      <th>sentiment_collection_date</th>\n",
       "    </tr>\n",
       "  </thead>\n",
       "  <tbody>\n",
       "    <tr>\n",
       "      <th>3723</th>\n",
       "      <td>2020-01-07 23:55:38+00:00</td>\n",
       "      <td>2020-01-07</td>\n",
       "      <td>1</td>\n",
       "      <td>23</td>\n",
       "      <td>55</td>\n",
       "      <td>2355</td>\n",
       "      <td>2</td>\n",
       "      <td>2020-01-07</td>\n",
       "    </tr>\n",
       "    <tr>\n",
       "      <th>3724</th>\n",
       "      <td>2020-01-07 23:51:49+00:00</td>\n",
       "      <td>2020-01-07</td>\n",
       "      <td>1</td>\n",
       "      <td>23</td>\n",
       "      <td>51</td>\n",
       "      <td>2351</td>\n",
       "      <td>2</td>\n",
       "      <td>2020-01-07</td>\n",
       "    </tr>\n",
       "    <tr>\n",
       "      <th>3725</th>\n",
       "      <td>2020-01-07 23:51:46+00:00</td>\n",
       "      <td>2020-01-07</td>\n",
       "      <td>1</td>\n",
       "      <td>23</td>\n",
       "      <td>51</td>\n",
       "      <td>2351</td>\n",
       "      <td>2</td>\n",
       "      <td>2020-01-07</td>\n",
       "    </tr>\n",
       "    <tr>\n",
       "      <th>3726</th>\n",
       "      <td>2020-01-07 23:50:00+00:00</td>\n",
       "      <td>2020-01-07</td>\n",
       "      <td>1</td>\n",
       "      <td>23</td>\n",
       "      <td>50</td>\n",
       "      <td>2350</td>\n",
       "      <td>2</td>\n",
       "      <td>2020-01-07</td>\n",
       "    </tr>\n",
       "    <tr>\n",
       "      <th>3727</th>\n",
       "      <td>2020-01-07 23:49:06+00:00</td>\n",
       "      <td>2020-01-07</td>\n",
       "      <td>1</td>\n",
       "      <td>23</td>\n",
       "      <td>49</td>\n",
       "      <td>2349</td>\n",
       "      <td>2</td>\n",
       "      <td>2020-01-07</td>\n",
       "    </tr>\n",
       "    <tr>\n",
       "      <th>...</th>\n",
       "      <td>...</td>\n",
       "      <td>...</td>\n",
       "      <td>...</td>\n",
       "      <td>...</td>\n",
       "      <td>...</td>\n",
       "      <td>...</td>\n",
       "      <td>...</td>\n",
       "      <td>...</td>\n",
       "    </tr>\n",
       "    <tr>\n",
       "      <th>398610</th>\n",
       "      <td>2020-01-07 15:06:57+00:00</td>\n",
       "      <td>2020-01-07</td>\n",
       "      <td>1</td>\n",
       "      <td>15</td>\n",
       "      <td>6</td>\n",
       "      <td>1506</td>\n",
       "      <td>1</td>\n",
       "      <td>2020-01-07</td>\n",
       "    </tr>\n",
       "    <tr>\n",
       "      <th>398611</th>\n",
       "      <td>2020-01-07 14:25:38+00:00</td>\n",
       "      <td>2020-01-07</td>\n",
       "      <td>1</td>\n",
       "      <td>14</td>\n",
       "      <td>25</td>\n",
       "      <td>1425</td>\n",
       "      <td>1</td>\n",
       "      <td>2020-01-07</td>\n",
       "    </tr>\n",
       "    <tr>\n",
       "      <th>398612</th>\n",
       "      <td>2020-01-07 13:28:40+00:00</td>\n",
       "      <td>2020-01-07</td>\n",
       "      <td>1</td>\n",
       "      <td>13</td>\n",
       "      <td>28</td>\n",
       "      <td>1328</td>\n",
       "      <td>1</td>\n",
       "      <td>2020-01-07</td>\n",
       "    </tr>\n",
       "    <tr>\n",
       "      <th>398613</th>\n",
       "      <td>2020-01-07 05:36:02+00:00</td>\n",
       "      <td>2020-01-07</td>\n",
       "      <td>1</td>\n",
       "      <td>5</td>\n",
       "      <td>36</td>\n",
       "      <td>536</td>\n",
       "      <td>1</td>\n",
       "      <td>2020-01-07</td>\n",
       "    </tr>\n",
       "    <tr>\n",
       "      <th>398614</th>\n",
       "      <td>2020-01-07 01:32:34+00:00</td>\n",
       "      <td>2020-01-07</td>\n",
       "      <td>1</td>\n",
       "      <td>1</td>\n",
       "      <td>32</td>\n",
       "      <td>132</td>\n",
       "      <td>1</td>\n",
       "      <td>2020-01-07</td>\n",
       "    </tr>\n",
       "  </tbody>\n",
       "</table>\n",
       "<p>2176 rows × 8 columns</p>\n",
       "</div>"
      ],
      "text/plain": [
       "                             date date_short  weekday  hour  minute  \\\n",
       "3723    2020-01-07 23:55:38+00:00 2020-01-07        1    23      55   \n",
       "3724    2020-01-07 23:51:49+00:00 2020-01-07        1    23      51   \n",
       "3725    2020-01-07 23:51:46+00:00 2020-01-07        1    23      51   \n",
       "3726    2020-01-07 23:50:00+00:00 2020-01-07        1    23      50   \n",
       "3727    2020-01-07 23:49:06+00:00 2020-01-07        1    23      49   \n",
       "...                           ...        ...      ...   ...     ...   \n",
       "398610  2020-01-07 15:06:57+00:00 2020-01-07        1    15       6   \n",
       "398611  2020-01-07 14:25:38+00:00 2020-01-07        1    14      25   \n",
       "398612  2020-01-07 13:28:40+00:00 2020-01-07        1    13      28   \n",
       "398613  2020-01-07 05:36:02+00:00 2020-01-07        1     5      36   \n",
       "398614  2020-01-07 01:32:34+00:00 2020-01-07        1     1      32   \n",
       "\n",
       "        army_time  sentiment_collection_period sentiment_collection_date  \n",
       "3723         2355                            2                2020-01-07  \n",
       "3724         2351                            2                2020-01-07  \n",
       "3725         2351                            2                2020-01-07  \n",
       "3726         2350                            2                2020-01-07  \n",
       "3727         2349                            2                2020-01-07  \n",
       "...           ...                          ...                       ...  \n",
       "398610       1506                            1                2020-01-07  \n",
       "398611       1425                            1                2020-01-07  \n",
       "398612       1328                            1                2020-01-07  \n",
       "398613        536                            1                2020-01-07  \n",
       "398614        132                            1                2020-01-07  \n",
       "\n",
       "[2176 rows x 8 columns]"
      ]
     },
     "execution_count": 40,
     "metadata": {},
     "output_type": "execute_result"
    }
   ],
   "source": [
    "df.loc[df.date_short == '2020-01-07',['date','date_short','weekday','hour','minute','army_time','sentiment_collection_period','sentiment_collection_date']]"
   ]
  },
  {
   "cell_type": "code",
   "execution_count": 41,
   "metadata": {},
   "outputs": [],
   "source": [
    "# sentiment_collection_date givesa a specific date for sentiment collection period\n",
    "# in other words, sentiment collection period is a dt.weekday for sentiment_collection_date\n",
    "\n",
    "df['sentiment_collection_date'].mask( (df.weekday.isin([0,1,2,3])) & (df.army_time > 2130), df['sentiment_collection_date'] + pd.DateOffset(1), inplace = True)\n",
    "df['sentiment_collection_date'].mask( (df.weekday == 4) & (df.sentiment_collection_period == 0), df['sentiment_collection_date'] + pd.DateOffset(3), inplace = True)\n",
    "df['sentiment_collection_date'].mask( (df.weekday == 5) & (df.sentiment_collection_period == 0), df['sentiment_collection_date'] + pd.DateOffset(2), inplace = True)\n",
    "df['sentiment_collection_date'].mask( (df.weekday == 6) & (df.sentiment_collection_period == 0), df['sentiment_collection_date'] + pd.DateOffset(1), inplace = True)"
   ]
  },
  {
   "cell_type": "code",
   "execution_count": 42,
   "metadata": {},
   "outputs": [
    {
     "data": {
      "text/html": [
       "<div>\n",
       "<style scoped>\n",
       "    .dataframe tbody tr th:only-of-type {\n",
       "        vertical-align: middle;\n",
       "    }\n",
       "\n",
       "    .dataframe tbody tr th {\n",
       "        vertical-align: top;\n",
       "    }\n",
       "\n",
       "    .dataframe thead th {\n",
       "        text-align: right;\n",
       "    }\n",
       "</style>\n",
       "<table border=\"1\" class=\"dataframe\">\n",
       "  <thead>\n",
       "    <tr style=\"text-align: right;\">\n",
       "      <th></th>\n",
       "      <th>date</th>\n",
       "      <th>date_short</th>\n",
       "      <th>weekday</th>\n",
       "      <th>hour</th>\n",
       "      <th>minute</th>\n",
       "      <th>army_time</th>\n",
       "      <th>sentiment_collection_period</th>\n",
       "      <th>sentiment_collection_date</th>\n",
       "    </tr>\n",
       "  </thead>\n",
       "  <tbody>\n",
       "    <tr>\n",
       "      <th>3723</th>\n",
       "      <td>2020-01-07 23:55:38+00:00</td>\n",
       "      <td>2020-01-07</td>\n",
       "      <td>1</td>\n",
       "      <td>23</td>\n",
       "      <td>55</td>\n",
       "      <td>2355</td>\n",
       "      <td>2</td>\n",
       "      <td>2020-01-08</td>\n",
       "    </tr>\n",
       "    <tr>\n",
       "      <th>3724</th>\n",
       "      <td>2020-01-07 23:51:49+00:00</td>\n",
       "      <td>2020-01-07</td>\n",
       "      <td>1</td>\n",
       "      <td>23</td>\n",
       "      <td>51</td>\n",
       "      <td>2351</td>\n",
       "      <td>2</td>\n",
       "      <td>2020-01-08</td>\n",
       "    </tr>\n",
       "    <tr>\n",
       "      <th>3725</th>\n",
       "      <td>2020-01-07 23:51:46+00:00</td>\n",
       "      <td>2020-01-07</td>\n",
       "      <td>1</td>\n",
       "      <td>23</td>\n",
       "      <td>51</td>\n",
       "      <td>2351</td>\n",
       "      <td>2</td>\n",
       "      <td>2020-01-08</td>\n",
       "    </tr>\n",
       "    <tr>\n",
       "      <th>3726</th>\n",
       "      <td>2020-01-07 23:50:00+00:00</td>\n",
       "      <td>2020-01-07</td>\n",
       "      <td>1</td>\n",
       "      <td>23</td>\n",
       "      <td>50</td>\n",
       "      <td>2350</td>\n",
       "      <td>2</td>\n",
       "      <td>2020-01-08</td>\n",
       "    </tr>\n",
       "    <tr>\n",
       "      <th>3727</th>\n",
       "      <td>2020-01-07 23:49:06+00:00</td>\n",
       "      <td>2020-01-07</td>\n",
       "      <td>1</td>\n",
       "      <td>23</td>\n",
       "      <td>49</td>\n",
       "      <td>2349</td>\n",
       "      <td>2</td>\n",
       "      <td>2020-01-08</td>\n",
       "    </tr>\n",
       "    <tr>\n",
       "      <th>...</th>\n",
       "      <td>...</td>\n",
       "      <td>...</td>\n",
       "      <td>...</td>\n",
       "      <td>...</td>\n",
       "      <td>...</td>\n",
       "      <td>...</td>\n",
       "      <td>...</td>\n",
       "      <td>...</td>\n",
       "    </tr>\n",
       "    <tr>\n",
       "      <th>398610</th>\n",
       "      <td>2020-01-07 15:06:57+00:00</td>\n",
       "      <td>2020-01-07</td>\n",
       "      <td>1</td>\n",
       "      <td>15</td>\n",
       "      <td>6</td>\n",
       "      <td>1506</td>\n",
       "      <td>1</td>\n",
       "      <td>2020-01-07</td>\n",
       "    </tr>\n",
       "    <tr>\n",
       "      <th>398611</th>\n",
       "      <td>2020-01-07 14:25:38+00:00</td>\n",
       "      <td>2020-01-07</td>\n",
       "      <td>1</td>\n",
       "      <td>14</td>\n",
       "      <td>25</td>\n",
       "      <td>1425</td>\n",
       "      <td>1</td>\n",
       "      <td>2020-01-07</td>\n",
       "    </tr>\n",
       "    <tr>\n",
       "      <th>398612</th>\n",
       "      <td>2020-01-07 13:28:40+00:00</td>\n",
       "      <td>2020-01-07</td>\n",
       "      <td>1</td>\n",
       "      <td>13</td>\n",
       "      <td>28</td>\n",
       "      <td>1328</td>\n",
       "      <td>1</td>\n",
       "      <td>2020-01-07</td>\n",
       "    </tr>\n",
       "    <tr>\n",
       "      <th>398613</th>\n",
       "      <td>2020-01-07 05:36:02+00:00</td>\n",
       "      <td>2020-01-07</td>\n",
       "      <td>1</td>\n",
       "      <td>5</td>\n",
       "      <td>36</td>\n",
       "      <td>536</td>\n",
       "      <td>1</td>\n",
       "      <td>2020-01-07</td>\n",
       "    </tr>\n",
       "    <tr>\n",
       "      <th>398614</th>\n",
       "      <td>2020-01-07 01:32:34+00:00</td>\n",
       "      <td>2020-01-07</td>\n",
       "      <td>1</td>\n",
       "      <td>1</td>\n",
       "      <td>32</td>\n",
       "      <td>132</td>\n",
       "      <td>1</td>\n",
       "      <td>2020-01-07</td>\n",
       "    </tr>\n",
       "  </tbody>\n",
       "</table>\n",
       "<p>2176 rows × 8 columns</p>\n",
       "</div>"
      ],
      "text/plain": [
       "                             date date_short  weekday  hour  minute  \\\n",
       "3723    2020-01-07 23:55:38+00:00 2020-01-07        1    23      55   \n",
       "3724    2020-01-07 23:51:49+00:00 2020-01-07        1    23      51   \n",
       "3725    2020-01-07 23:51:46+00:00 2020-01-07        1    23      51   \n",
       "3726    2020-01-07 23:50:00+00:00 2020-01-07        1    23      50   \n",
       "3727    2020-01-07 23:49:06+00:00 2020-01-07        1    23      49   \n",
       "...                           ...        ...      ...   ...     ...   \n",
       "398610  2020-01-07 15:06:57+00:00 2020-01-07        1    15       6   \n",
       "398611  2020-01-07 14:25:38+00:00 2020-01-07        1    14      25   \n",
       "398612  2020-01-07 13:28:40+00:00 2020-01-07        1    13      28   \n",
       "398613  2020-01-07 05:36:02+00:00 2020-01-07        1     5      36   \n",
       "398614  2020-01-07 01:32:34+00:00 2020-01-07        1     1      32   \n",
       "\n",
       "        army_time  sentiment_collection_period sentiment_collection_date  \n",
       "3723         2355                            2                2020-01-08  \n",
       "3724         2351                            2                2020-01-08  \n",
       "3725         2351                            2                2020-01-08  \n",
       "3726         2350                            2                2020-01-08  \n",
       "3727         2349                            2                2020-01-08  \n",
       "...           ...                          ...                       ...  \n",
       "398610       1506                            1                2020-01-07  \n",
       "398611       1425                            1                2020-01-07  \n",
       "398612       1328                            1                2020-01-07  \n",
       "398613        536                            1                2020-01-07  \n",
       "398614        132                            1                2020-01-07  \n",
       "\n",
       "[2176 rows x 8 columns]"
      ]
     },
     "execution_count": 42,
     "metadata": {},
     "output_type": "execute_result"
    }
   ],
   "source": [
    "df.loc[df.date_short == '2020-01-07',['date','date_short','weekday','hour','minute','army_time','sentiment_collection_period','sentiment_collection_date']]"
   ]
  },
  {
   "cell_type": "code",
   "execution_count": 43,
   "metadata": {},
   "outputs": [
    {
     "data": {
      "text/plain": [
       "sentiment_collection_period\n",
       "0    124808\n",
       "1     72033\n",
       "2     75163\n",
       "3     73949\n",
       "4     71523\n",
       "Name: id, dtype: int64"
      ]
     },
     "execution_count": 43,
     "metadata": {},
     "output_type": "execute_result"
    }
   ],
   "source": [
    "# The distribution is changed, because weekend tweets are moved to monday and night tweets have been moved to the other day\n",
    "day_distribution_mod = df.groupby(['sentiment_collection_period']).id.count()\n",
    "day_distribution_mod"
   ]
  },
  {
   "cell_type": "code",
   "execution_count": 44,
   "metadata": {},
   "outputs": [
    {
     "data": {
      "image/png": "[encoded data removed]",
      "text/plain": [
       "<Figure size 648x432 with 1 Axes>"
      ]
     },
     "metadata": {
      "needs_background": "light"
     },
     "output_type": "display_data"
    }
   ],
   "source": [
    "width = 0.35\n",
    "\n",
    "fig, ax = plt.subplots(figsize=(9,6))\n",
    "\n",
    "ax1 = ax.bar(day_distribution_raw.index - width/2, day_distribution_raw.values, width = width, label='original')\n",
    "ax2 = ax.bar(day_distribution_mod.index + width/2, day_distribution_mod.values, width = width, label='grouped')\n",
    "plt.xticks(range(7),['Mon','Tue','Wed','Thu','Fri','Sat','Sun'], rotation=45)\n",
    "plt.ylim(0,210*10**3)\n",
    "plt.title('Tweets per day', fontsize=12, pad=15)\n",
    "plt.xlabel('Day of week', fontsize=12)\n",
    "plt.ylabel('Total number of tweets collected', fontsize=12)\n",
    "plt.legend()\n",
    "\n",
    "def autolabel(rects):\n",
    "    \"\"\"Attach a text label above each bar in *rects*, displaying its height.\"\"\"\n",
    "    for rect in rects:\n",
    "        height = rect.get_height()\n",
    "        ax.annotate('{:,}'.format(height),\n",
    "                    xy=(rect.get_x() + rect.get_width() / 2, height),\n",
    "                    xytext=(0, 3),  # 3 points vertical offset\n",
    "                    textcoords=\"offset points\",\n",
    "                    ha='left', va='bottom', rotation=45)\n",
    "\n",
    "autolabel(ax1)\n",
    "autolabel(ax2)\n",
    "\n",
    "plt.tight_layout()\n",
    "plt.show()"
   ]
  },
  {
   "cell_type": "code",
   "execution_count": 45,
   "metadata": {},
   "outputs": [
    {
     "data": {
      "image/png": "[encoded data removed]",
      "text/plain": [
       "<Figure size 864x576 with 1 Axes>"
      ]
     },
     "metadata": {
      "needs_background": "light"
     },
     "output_type": "display_data"
    }
   ],
   "source": [
    "fig_name = 'Total number of tweets per company'\n",
    "fig, ax = plt.subplots(figsize=(12,8))\n",
    "\n",
    "data = df.groupby(['ticker']).id.count().sort_values(ascending=False)\n",
    "\n",
    "ax1 = ax.bar(data.index, data.values, color='gray')\n",
    "ax2 = ax.hlines(y=20000, xmin=-0.5, xmax=14.5, linestyles = 'dashed', color = 'red', alpha=0.6)\n",
    "\n",
    "plt.xticks(rotation=45)\n",
    "plt.ylim(0,170000)\n",
    "\n",
    "\n",
    "def autolabel(rects):\n",
    "    \"\"\"Attach a text label above each bar in *rects*, displaying its height.\"\"\"\n",
    "    for rect in rects:\n",
    "        height = rect.get_height()\n",
    "        ax.annotate('{:,}'.format(height),\n",
    "                    xy=(rect.get_x() + rect.get_width() / 2, height),\n",
    "                    xytext=(0, 3),  # 3 points vertical offset\n",
    "                    textcoords=\"offset points\",\n",
    "                    ha='left', va='bottom', rotation=45)\n",
    "\n",
    "autolabel(ax1)\n",
    "plt.title(fig_name, fontsize=14, pad = 15)\n",
    "plt.xlabel('Company', fontsize=14)\n",
    "plt.ylabel('Collected tweets', fontsize=14)\n",
    "\n",
    "plt.tight_layout()\n",
    "plt.savefig(r'c:\\Users\\jaromir\\OneDrive\\UoM\\100_Disertation\\05_Dissertation\\01_Figures\\\\'+fig_name+'.png')\n",
    "        \n",
    "plt.show()"
   ]
  },
  {
   "cell_type": "code",
   "execution_count": 57,
   "metadata": {},
   "outputs": [
    {
     "data": {
      "image/png": "[encoded data removed]",
      "text/plain": [
       "<Figure size 1152x432 with 2 Axes>"
      ]
     },
     "metadata": {
      "needs_background": "light"
     },
     "output_type": "display_data"
    }
   ],
   "source": [
    "fig_name = 'Tweets per day'\n",
    "fig, axes = plt.subplots(1,2, figsize=(16,6))\n",
    "\n",
    "tweet_count = df.groupby(['ticker']).id.count()\n",
    "\n",
    "high =  tweet_count[tweet_count/tweet_count.max() > 0.20].index\n",
    "low = tweet_count[tweet_count/tweet_count.max() <= 0.20].index\n",
    "\n",
    "for ticker in low:\n",
    "    data = df[df.ticker==ticker].groupby('sentiment_collection_date').id.count().rolling('7D').mean() \n",
    "    axes[0].plot(data.index, data.values, label=ticker)\n",
    "    axes[0].set_ylabel('collected tweets')\n",
    "    axes[0].set_title('Less discussed companies')\n",
    "    axes[0].legend()\n",
    "\n",
    "for ticker in high:\n",
    "    data = df[df.ticker==ticker].groupby('sentiment_collection_date').id.count().rolling('7D').mean() \n",
    "    axes[1].plot(data.index, data.values, label=ticker)\n",
    "    axes[1].set_ylabel('collected tweets')\n",
    "    axes[1].set_title('More discussed companies')\n",
    "    axes[1].legend()\n",
    "    \n",
    "\n",
    "fig.suptitle(fig_name, fontsize=14)\n",
    "plt.savefig(r'c:\\Users\\jaromir\\OneDrive\\UoM\\100_Disertation\\05_Dissertation\\01_Figures\\\\'+fig_name+'.png')\n",
    "plt.show()"
   ]
  },
  {
   "cell_type": "code",
   "execution_count": 47,
   "metadata": {},
   "outputs": [],
   "source": [
    "df = df.drop(['weekday','hour','minute','date_short','army_time','sentiment_collection_period'], axis=1)"
   ]
  },
  {
   "cell_type": "code",
   "execution_count": 48,
   "metadata": {},
   "outputs": [
    {
     "data": {
      "text/html": [
       "<div>\n",
       "<style scoped>\n",
       "    .dataframe tbody tr th:only-of-type {\n",
       "        vertical-align: middle;\n",
       "    }\n",
       "\n",
       "    .dataframe tbody tr th {\n",
       "        vertical-align: top;\n",
       "    }\n",
       "\n",
       "    .dataframe thead th {\n",
       "        text-align: right;\n",
       "    }\n",
       "</style>\n",
       "<table border=\"1\" class=\"dataframe\">\n",
       "  <thead>\n",
       "    <tr style=\"text-align: right;\">\n",
       "      <th></th>\n",
       "      <th>username</th>\n",
       "      <th>to</th>\n",
       "      <th>text</th>\n",
       "      <th>retweets</th>\n",
       "      <th>favorites</th>\n",
       "      <th>replies</th>\n",
       "      <th>id</th>\n",
       "      <th>author_id</th>\n",
       "      <th>date</th>\n",
       "      <th>hashtags</th>\n",
       "      <th>mentions</th>\n",
       "      <th>urls</th>\n",
       "      <th>ticker</th>\n",
       "      <th>sentiment_collection_date</th>\n",
       "    </tr>\n",
       "  </thead>\n",
       "  <tbody>\n",
       "    <tr>\n",
       "      <th>0</th>\n",
       "      <td>DoejiStar</td>\n",
       "      <td>NaN</td>\n",
       "      <td>2019 Jan 2nd (22:30gmt) $JPY flash crash backdrop: - risk aversion sentiment on political risks ...</td>\n",
       "      <td>0</td>\n",
       "      <td>2</td>\n",
       "      <td>0</td>\n",
       "      <td>1212522035525476352</td>\n",
       "      <td>507108497</td>\n",
       "      <td>2020-01-01 23:52:35+00:00</td>\n",
       "      <td>#Caixin</td>\n",
       "      <td>NaN</td>\n",
       "      <td>NaN</td>\n",
       "      <td>AAPL</td>\n",
       "      <td>2020-01-02</td>\n",
       "    </tr>\n",
       "    <tr>\n",
       "      <th>1</th>\n",
       "      <td>PigOfFed</td>\n",
       "      <td>MarcoMNYC</td>\n",
       "      <td>Should've been $spx 4,000 i mean the fed balance sheet is never going down again, $aapl at 400 &amp;...</td>\n",
       "      <td>0</td>\n",
       "      <td>1</td>\n",
       "      <td>0</td>\n",
       "      <td>1212521491398565894</td>\n",
       "      <td>1182741182310486016</td>\n",
       "      <td>2020-01-01 23:50:25+00:00</td>\n",
       "      <td>NaN</td>\n",
       "      <td>NaN</td>\n",
       "      <td>NaN</td>\n",
       "      <td>AAPL</td>\n",
       "      <td>2020-01-02</td>\n",
       "    </tr>\n",
       "    <tr>\n",
       "      <th>2</th>\n",
       "      <td>mikeharrisNY</td>\n",
       "      <td>NaN</td>\n",
       "      <td>Market driver 2019. $AAPL had highest approx. turnover (price x volume) in $DJIA</td>\n",
       "      <td>1</td>\n",
       "      <td>12</td>\n",
       "      <td>0</td>\n",
       "      <td>1212520476129583104</td>\n",
       "      <td>179571631</td>\n",
       "      <td>2020-01-01 23:46:23+00:00</td>\n",
       "      <td>NaN</td>\n",
       "      <td>NaN</td>\n",
       "      <td>NaN</td>\n",
       "      <td>AAPL</td>\n",
       "      <td>2020-01-02</td>\n",
       "    </tr>\n",
       "  </tbody>\n",
       "</table>\n",
       "</div>"
      ],
      "text/plain": [
       "       username         to  \\\n",
       "0     DoejiStar        NaN   \n",
       "1      PigOfFed  MarcoMNYC   \n",
       "2  mikeharrisNY        NaN   \n",
       "\n",
       "                                                                                                  text  \\\n",
       "0  2019 Jan 2nd (22:30gmt) $JPY flash crash backdrop: - risk aversion sentiment on political risks ...   \n",
       "1  Should've been $spx 4,000 i mean the fed balance sheet is never going down again, $aapl at 400 &...   \n",
       "2                     Market driver 2019. $AAPL had highest approx. turnover (price x volume) in $DJIA   \n",
       "\n",
       "   retweets  favorites  replies                   id            author_id  \\\n",
       "0         0          2        0  1212522035525476352            507108497   \n",
       "1         0          1        0  1212521491398565894  1182741182310486016   \n",
       "2         1         12        0  1212520476129583104            179571631   \n",
       "\n",
       "                        date hashtags mentions urls ticker  \\\n",
       "0  2020-01-01 23:52:35+00:00  #Caixin      NaN  NaN   AAPL   \n",
       "1  2020-01-01 23:50:25+00:00      NaN      NaN  NaN   AAPL   \n",
       "2  2020-01-01 23:46:23+00:00      NaN      NaN  NaN   AAPL   \n",
       "\n",
       "  sentiment_collection_date  \n",
       "0                2020-01-02  \n",
       "1                2020-01-02  \n",
       "2                2020-01-02  "
      ]
     },
     "execution_count": 48,
     "metadata": {},
     "output_type": "execute_result"
    }
   ],
   "source": [
    "df.head(3)"
   ]
  },
  {
   "cell_type": "code",
   "execution_count": 50,
   "metadata": {},
   "outputs": [],
   "source": [
    "# save file\n",
    "current_time = str(datetime.now().strftime(\"%Y%m%d_%H%M%S\"))"
   ]
  },
  {
   "cell_type": "code",
   "execution_count": 51,
   "metadata": {},
   "outputs": [],
   "source": [
    "df.to_pickle(r\"c:\\Users\\jaromir\\OneDrive\\UoM\\100_Disertation\\02_SrcData\\04_CleanData\\tweets_\"+current_time+\".pkl\")"
   ]
  },
  {
   "cell_type": "code",
   "execution_count": 52,
   "metadata": {},
   "outputs": [],
   "source": [
    "# df_for_man_label = df.copy()\n",
    "# df_for_man_label = df_for_man_label.loc[:,df_for_man_label.columns.isin(['text','id','date','ticker'])]"
   ]
  },
  {
   "cell_type": "code",
   "execution_count": 53,
   "metadata": {},
   "outputs": [],
   "source": [
    "# df_out = pd.DataFrame(columns = ['text','id','date','ticker'])\n",
    "# for tick in df_for_man_label.ticker.unique():\n",
    "#     df_out = df_out.append(df_for_man_label[df_for_man_label.ticker == tick].sample(75, replace = False), ignore_index=True)"
   ]
  },
  {
   "cell_type": "code",
   "execution_count": 54,
   "metadata": {},
   "outputs": [],
   "source": [
    "# df_out"
   ]
  },
  {
   "cell_type": "code",
   "execution_count": 55,
   "metadata": {},
   "outputs": [],
   "source": [
    "# df_out.to_csv(r\"c:\\Users\\jaromir\\OneDrive\\UoM\\100_Disertation\\02_SrcData\\04_CleanData\\tweets_\"+current_time+\".csv\")"
   ]
  }
 ],
 "metadata": {
  "kernelspec": {
   "display_name": "disProject",
   "language": "python",
   "name": "disproject"
  },
  "language_info": {
   "codemirror_mode": {
    "name": "ipython",
    "version": 3
   },
   "file_extension": ".py",
   "mimetype": "text/x-python",
   "name": "python",
   "nbconvert_exporter": "python",
   "pygments_lexer": "ipython3",
   "version": "3.7.6"
  }
 },
 "nbformat": 4,
 "nbformat_minor": 2
}
